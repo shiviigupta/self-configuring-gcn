{
  "nbformat": 4,
  "nbformat_minor": 0,
  "metadata": {
    "colab": {
      "provenance": []
    },
    "kernelspec": {
      "name": "python3",
      "display_name": "Python 3"
    },
    "language_info": {
      "name": "python"
    }
  },
  "cells": [
    {
      "cell_type": "code",
      "execution_count": null,
      "metadata": {
        "id": "pKyziMnoJirD"
      },
      "outputs": [],
      "source": [
        "import random\n",
        "import copy"
      ]
    },
    {
      "cell_type": "code",
      "source": [
        "!pip install  dgl -f https://data.dgl.ai/wheels/repo.html\n",
        "!pip install  dglgo -f https://data.dgl.ai/wheels-test/repo.html"
      ],
      "metadata": {
        "colab": {
          "base_uri": "https://localhost:8080/"
        },
        "id": "z7nlKlPDJrvI",
        "outputId": "87ea0986-12ec-4a4d-c215-db66f574630a"
      },
      "execution_count": null,
      "outputs": [
        {
          "output_type": "stream",
          "name": "stdout",
          "text": [
            "Looking in links: https://data.dgl.ai/wheels/repo.html\n",
            "Collecting dgl\n",
            "  Downloading dgl-1.1.3-cp310-cp310-manylinux1_x86_64.whl (6.5 MB)\n",
            "\u001b[2K     \u001b[90m━━━━━━━━━━━━━━━━━━━━━━━━━━━━━━━━━━━━━━━━\u001b[0m \u001b[32m6.5/6.5 MB\u001b[0m \u001b[31m48.4 MB/s\u001b[0m eta \u001b[36m0:00:00\u001b[0m\n",
            "\u001b[?25hRequirement already satisfied: numpy>=1.14.0 in /usr/local/lib/python3.10/dist-packages (from dgl) (1.23.5)\n",
            "Requirement already satisfied: scipy>=1.1.0 in /usr/local/lib/python3.10/dist-packages (from dgl) (1.11.4)\n",
            "Requirement already satisfied: networkx>=2.1 in /usr/local/lib/python3.10/dist-packages (from dgl) (3.2.1)\n",
            "Requirement already satisfied: requests>=2.19.0 in /usr/local/lib/python3.10/dist-packages (from dgl) (2.31.0)\n",
            "Requirement already satisfied: tqdm in /usr/local/lib/python3.10/dist-packages (from dgl) (4.66.1)\n",
            "Requirement already satisfied: psutil>=5.8.0 in /usr/local/lib/python3.10/dist-packages (from dgl) (5.9.5)\n",
            "Requirement already satisfied: charset-normalizer<4,>=2 in /usr/local/lib/python3.10/dist-packages (from requests>=2.19.0->dgl) (3.3.2)\n",
            "Requirement already satisfied: idna<4,>=2.5 in /usr/local/lib/python3.10/dist-packages (from requests>=2.19.0->dgl) (3.6)\n",
            "Requirement already satisfied: urllib3<3,>=1.21.1 in /usr/local/lib/python3.10/dist-packages (from requests>=2.19.0->dgl) (2.0.7)\n",
            "Requirement already satisfied: certifi>=2017.4.17 in /usr/local/lib/python3.10/dist-packages (from requests>=2.19.0->dgl) (2023.11.17)\n",
            "Installing collected packages: dgl\n",
            "Successfully installed dgl-1.1.3\n",
            "Looking in links: https://data.dgl.ai/wheels-test/repo.html\n",
            "Collecting dglgo\n",
            "  Downloading dglgo-0.0.2-py3-none-any.whl (63 kB)\n",
            "\u001b[2K     \u001b[90m━━━━━━━━━━━━━━━━━━━━━━━━━━━━━━━━━━━━━━━━\u001b[0m \u001b[32m63.5/63.5 kB\u001b[0m \u001b[31m1.1 MB/s\u001b[0m eta \u001b[36m0:00:00\u001b[0m\n",
            "\u001b[?25hRequirement already satisfied: typer>=0.4.0 in /usr/local/lib/python3.10/dist-packages (from dglgo) (0.9.0)\n",
            "Collecting isort>=5.10.1 (from dglgo)\n",
            "  Downloading isort-5.13.0-py3-none-any.whl (92 kB)\n",
            "\u001b[2K     \u001b[90m━━━━━━━━━━━━━━━━━━━━━━━━━━━━━━━━━━━━━━━━\u001b[0m \u001b[32m92.3/92.3 kB\u001b[0m \u001b[31m3.1 MB/s\u001b[0m eta \u001b[36m0:00:00\u001b[0m\n",
            "\u001b[?25hCollecting autopep8>=1.6.0 (from dglgo)\n",
            "  Downloading autopep8-2.0.4-py2.py3-none-any.whl (45 kB)\n",
            "\u001b[2K     \u001b[90m━━━━━━━━━━━━━━━━━━━━━━━━━━━━━━━━━━━━━━━━\u001b[0m \u001b[32m45.3/45.3 kB\u001b[0m \u001b[31m5.5 MB/s\u001b[0m eta \u001b[36m0:00:00\u001b[0m\n",
            "\u001b[?25hCollecting numpydoc>=1.1.0 (from dglgo)\n",
            "  Downloading numpydoc-1.6.0-py3-none-any.whl (61 kB)\n",
            "\u001b[2K     \u001b[90m━━━━━━━━━━━━━━━━━━━━━━━━━━━━━━━━━━━━━━━━\u001b[0m \u001b[32m61.7/61.7 kB\u001b[0m \u001b[31m6.7 MB/s\u001b[0m eta \u001b[36m0:00:00\u001b[0m\n",
            "\u001b[?25hRequirement already satisfied: pydantic>=1.9.0 in /usr/local/lib/python3.10/dist-packages (from dglgo) (1.10.13)\n",
            "Collecting ruamel.yaml>=0.17.20 (from dglgo)\n",
            "  Downloading ruamel.yaml-0.18.5-py3-none-any.whl (116 kB)\n",
            "\u001b[2K     \u001b[90m━━━━━━━━━━━━━━━━━━━━━━━━━━━━━━━━━━━━━━━━\u001b[0m \u001b[32m116.4/116.4 kB\u001b[0m \u001b[31m14.5 MB/s\u001b[0m eta \u001b[36m0:00:00\u001b[0m\n",
            "\u001b[?25hRequirement already satisfied: PyYAML>=5.1 in /usr/local/lib/python3.10/dist-packages (from dglgo) (6.0.1)\n",
            "Collecting ogb>=1.3.3 (from dglgo)\n",
            "  Downloading ogb-1.3.6-py3-none-any.whl (78 kB)\n",
            "\u001b[2K     \u001b[90m━━━━━━━━━━━━━━━━━━━━━━━━━━━━━━━━━━━━━━━━\u001b[0m \u001b[32m78.8/78.8 kB\u001b[0m \u001b[31m10.3 MB/s\u001b[0m eta \u001b[36m0:00:00\u001b[0m\n",
            "\u001b[?25hCollecting rdkit-pypi (from dglgo)\n",
            "  Downloading rdkit_pypi-2022.9.5-cp310-cp310-manylinux_2_17_x86_64.manylinux2014_x86_64.whl (29.4 MB)\n",
            "\u001b[2K     \u001b[90m━━━━━━━━━━━━━━━━━━━━━━━━━━━━━━━━━━━━━━━━\u001b[0m \u001b[32m29.4/29.4 MB\u001b[0m \u001b[31m43.8 MB/s\u001b[0m eta \u001b[36m0:00:00\u001b[0m\n",
            "\u001b[?25hRequirement already satisfied: scikit-learn>=0.20.0 in /usr/local/lib/python3.10/dist-packages (from dglgo) (1.2.2)\n",
            "Collecting pycodestyle>=2.10.0 (from autopep8>=1.6.0->dglgo)\n",
            "  Downloading pycodestyle-2.11.1-py2.py3-none-any.whl (31 kB)\n",
            "Requirement already satisfied: tomli in /usr/local/lib/python3.10/dist-packages (from autopep8>=1.6.0->dglgo) (2.0.1)\n",
            "Collecting pip-api (from isort>=5.10.1->dglgo)\n",
            "  Downloading pip_api-0.0.30-py3-none-any.whl (111 kB)\n",
            "\u001b[2K     \u001b[90m━━━━━━━━━━━━━━━━━━━━━━━━━━━━━━━━━━━━━━━━\u001b[0m \u001b[32m111.6/111.6 kB\u001b[0m \u001b[31m15.3 MB/s\u001b[0m eta \u001b[36m0:00:00\u001b[0m\n",
            "\u001b[?25hCollecting pipreqs (from isort>=5.10.1->dglgo)\n",
            "  Downloading pipreqs-0.4.13-py2.py3-none-any.whl (33 kB)\n",
            "Collecting requirementslib (from isort>=5.10.1->dglgo)\n",
            "  Downloading requirementslib-3.0.0-py2.py3-none-any.whl (96 kB)\n",
            "\u001b[2K     \u001b[90m━━━━━━━━━━━━━━━━━━━━━━━━━━━━━━━━━━━━━━━━\u001b[0m \u001b[32m96.7/96.7 kB\u001b[0m \u001b[31m11.4 MB/s\u001b[0m eta \u001b[36m0:00:00\u001b[0m\n",
            "\u001b[?25hRequirement already satisfied: sphinx>=5 in /usr/local/lib/python3.10/dist-packages (from numpydoc>=1.1.0->dglgo) (5.0.2)\n",
            "Requirement already satisfied: Jinja2>=2.10 in /usr/local/lib/python3.10/dist-packages (from numpydoc>=1.1.0->dglgo) (3.1.2)\n",
            "Requirement already satisfied: tabulate>=0.8.10 in /usr/local/lib/python3.10/dist-packages (from numpydoc>=1.1.0->dglgo) (0.9.0)\n",
            "Requirement already satisfied: torch>=1.6.0 in /usr/local/lib/python3.10/dist-packages (from ogb>=1.3.3->dglgo) (2.1.0+cu118)\n",
            "Requirement already satisfied: numpy>=1.16.0 in /usr/local/lib/python3.10/dist-packages (from ogb>=1.3.3->dglgo) (1.23.5)\n",
            "Requirement already satisfied: tqdm>=4.29.0 in /usr/local/lib/python3.10/dist-packages (from ogb>=1.3.3->dglgo) (4.66.1)\n",
            "Requirement already satisfied: pandas>=0.24.0 in /usr/local/lib/python3.10/dist-packages (from ogb>=1.3.3->dglgo) (1.5.3)\n",
            "Requirement already satisfied: six>=1.12.0 in /usr/local/lib/python3.10/dist-packages (from ogb>=1.3.3->dglgo) (1.16.0)\n",
            "Requirement already satisfied: urllib3>=1.24.0 in /usr/local/lib/python3.10/dist-packages (from ogb>=1.3.3->dglgo) (2.0.7)\n",
            "Collecting outdated>=0.2.0 (from ogb>=1.3.3->dglgo)\n",
            "  Downloading outdated-0.2.2-py2.py3-none-any.whl (7.5 kB)\n",
            "Requirement already satisfied: typing-extensions>=4.2.0 in /usr/local/lib/python3.10/dist-packages (from pydantic>=1.9.0->dglgo) (4.5.0)\n",
            "Collecting ruamel.yaml.clib>=0.2.7 (from ruamel.yaml>=0.17.20->dglgo)\n",
            "  Downloading ruamel.yaml.clib-0.2.8-cp310-cp310-manylinux_2_17_x86_64.manylinux2014_x86_64.manylinux_2_24_x86_64.whl (526 kB)\n",
            "\u001b[2K     \u001b[90m━━━━━━━━━━━━━━━━━━━━━━━━━━━━━━━━━━━━━━━━\u001b[0m \u001b[32m526.7/526.7 kB\u001b[0m \u001b[31m41.7 MB/s\u001b[0m eta \u001b[36m0:00:00\u001b[0m\n",
            "\u001b[?25hRequirement already satisfied: scipy>=1.3.2 in /usr/local/lib/python3.10/dist-packages (from scikit-learn>=0.20.0->dglgo) (1.11.4)\n",
            "Requirement already satisfied: joblib>=1.1.1 in /usr/local/lib/python3.10/dist-packages (from scikit-learn>=0.20.0->dglgo) (1.3.2)\n",
            "Requirement already satisfied: threadpoolctl>=2.0.0 in /usr/local/lib/python3.10/dist-packages (from scikit-learn>=0.20.0->dglgo) (3.2.0)\n",
            "Requirement already satisfied: click<9.0.0,>=7.1.1 in /usr/local/lib/python3.10/dist-packages (from typer>=0.4.0->dglgo) (8.1.7)\n",
            "Requirement already satisfied: Pillow in /usr/local/lib/python3.10/dist-packages (from rdkit-pypi->dglgo) (9.4.0)\n",
            "Requirement already satisfied: MarkupSafe>=2.0 in /usr/local/lib/python3.10/dist-packages (from Jinja2>=2.10->numpydoc>=1.1.0->dglgo) (2.1.3)\n",
            "Requirement already satisfied: setuptools>=44 in /usr/local/lib/python3.10/dist-packages (from outdated>=0.2.0->ogb>=1.3.3->dglgo) (67.7.2)\n",
            "Collecting littleutils (from outdated>=0.2.0->ogb>=1.3.3->dglgo)\n",
            "  Downloading littleutils-0.2.2.tar.gz (6.6 kB)\n",
            "  Preparing metadata (setup.py) ... \u001b[?25l\u001b[?25hdone\n",
            "Requirement already satisfied: requests in /usr/local/lib/python3.10/dist-packages (from outdated>=0.2.0->ogb>=1.3.3->dglgo) (2.31.0)\n",
            "Requirement already satisfied: python-dateutil>=2.8.1 in /usr/local/lib/python3.10/dist-packages (from pandas>=0.24.0->ogb>=1.3.3->dglgo) (2.8.2)\n",
            "Requirement already satisfied: pytz>=2020.1 in /usr/local/lib/python3.10/dist-packages (from pandas>=0.24.0->ogb>=1.3.3->dglgo) (2023.3.post1)\n",
            "Requirement already satisfied: sphinxcontrib-applehelp in /usr/local/lib/python3.10/dist-packages (from sphinx>=5->numpydoc>=1.1.0->dglgo) (1.0.7)\n",
            "Requirement already satisfied: sphinxcontrib-devhelp in /usr/local/lib/python3.10/dist-packages (from sphinx>=5->numpydoc>=1.1.0->dglgo) (1.0.5)\n",
            "Requirement already satisfied: sphinxcontrib-jsmath in /usr/local/lib/python3.10/dist-packages (from sphinx>=5->numpydoc>=1.1.0->dglgo) (1.0.1)\n",
            "Requirement already satisfied: sphinxcontrib-htmlhelp>=2.0.0 in /usr/local/lib/python3.10/dist-packages (from sphinx>=5->numpydoc>=1.1.0->dglgo) (2.0.4)\n",
            "Requirement already satisfied: sphinxcontrib-serializinghtml>=1.1.5 in /usr/local/lib/python3.10/dist-packages (from sphinx>=5->numpydoc>=1.1.0->dglgo) (1.1.9)\n",
            "Requirement already satisfied: sphinxcontrib-qthelp in /usr/local/lib/python3.10/dist-packages (from sphinx>=5->numpydoc>=1.1.0->dglgo) (1.0.6)\n",
            "Requirement already satisfied: Pygments>=2.0 in /usr/local/lib/python3.10/dist-packages (from sphinx>=5->numpydoc>=1.1.0->dglgo) (2.16.1)\n",
            "Requirement already satisfied: docutils<0.19,>=0.14 in /usr/local/lib/python3.10/dist-packages (from sphinx>=5->numpydoc>=1.1.0->dglgo) (0.18.1)\n",
            "Requirement already satisfied: snowballstemmer>=1.1 in /usr/local/lib/python3.10/dist-packages (from sphinx>=5->numpydoc>=1.1.0->dglgo) (2.2.0)\n",
            "Requirement already satisfied: babel>=1.3 in /usr/local/lib/python3.10/dist-packages (from sphinx>=5->numpydoc>=1.1.0->dglgo) (2.13.1)\n",
            "Requirement already satisfied: alabaster<0.8,>=0.7 in /usr/local/lib/python3.10/dist-packages (from sphinx>=5->numpydoc>=1.1.0->dglgo) (0.7.13)\n",
            "Requirement already satisfied: imagesize in /usr/local/lib/python3.10/dist-packages (from sphinx>=5->numpydoc>=1.1.0->dglgo) (1.4.1)\n",
            "Requirement already satisfied: packaging in /usr/local/lib/python3.10/dist-packages (from sphinx>=5->numpydoc>=1.1.0->dglgo) (23.2)\n",
            "Requirement already satisfied: filelock in /usr/local/lib/python3.10/dist-packages (from torch>=1.6.0->ogb>=1.3.3->dglgo) (3.13.1)\n",
            "Requirement already satisfied: sympy in /usr/local/lib/python3.10/dist-packages (from torch>=1.6.0->ogb>=1.3.3->dglgo) (1.12)\n",
            "Requirement already satisfied: networkx in /usr/local/lib/python3.10/dist-packages (from torch>=1.6.0->ogb>=1.3.3->dglgo) (3.2.1)\n",
            "Requirement already satisfied: fsspec in /usr/local/lib/python3.10/dist-packages (from torch>=1.6.0->ogb>=1.3.3->dglgo) (2023.6.0)\n",
            "Requirement already satisfied: triton==2.1.0 in /usr/local/lib/python3.10/dist-packages (from torch>=1.6.0->ogb>=1.3.3->dglgo) (2.1.0)\n",
            "Requirement already satisfied: pip in /usr/local/lib/python3.10/dist-packages (from pip-api->isort>=5.10.1->dglgo) (23.1.2)\n",
            "Collecting docopt (from pipreqs->isort>=5.10.1->dglgo)\n",
            "  Downloading docopt-0.6.2.tar.gz (25 kB)\n",
            "  Preparing metadata (setup.py) ... \u001b[?25l\u001b[?25hdone\n",
            "Collecting yarg (from pipreqs->isort>=5.10.1->dglgo)\n",
            "  Downloading yarg-0.1.9-py2.py3-none-any.whl (19 kB)\n",
            "Collecting distlib>=0.2.8 (from requirementslib->isort>=5.10.1->dglgo)\n",
            "  Downloading distlib-0.3.7-py2.py3-none-any.whl (468 kB)\n",
            "\u001b[2K     \u001b[90m━━━━━━━━━━━━━━━━━━━━━━━━━━━━━━━━━━━━━━━━\u001b[0m \u001b[32m468.9/468.9 kB\u001b[0m \u001b[31m45.4 MB/s\u001b[0m eta \u001b[36m0:00:00\u001b[0m\n",
            "\u001b[?25hCollecting pep517>=0.5.0 (from requirementslib->isort>=5.10.1->dglgo)\n",
            "  Downloading pep517-0.13.1-py3-none-any.whl (19 kB)\n",
            "Requirement already satisfied: platformdirs in /usr/local/lib/python3.10/dist-packages (from requirementslib->isort>=5.10.1->dglgo) (4.0.0)\n",
            "Collecting plette[validation] (from requirementslib->isort>=5.10.1->dglgo)\n",
            "  Downloading plette-0.4.4-py2.py3-none-any.whl (12 kB)\n",
            "Collecting tomlkit>=0.5.3 (from requirementslib->isort>=5.10.1->dglgo)\n",
            "  Downloading tomlkit-0.12.3-py3-none-any.whl (37 kB)\n",
            "Requirement already satisfied: charset-normalizer<4,>=2 in /usr/local/lib/python3.10/dist-packages (from requests->outdated>=0.2.0->ogb>=1.3.3->dglgo) (3.3.2)\n",
            "Requirement already satisfied: idna<4,>=2.5 in /usr/local/lib/python3.10/dist-packages (from requests->outdated>=0.2.0->ogb>=1.3.3->dglgo) (3.6)\n",
            "Requirement already satisfied: certifi>=2017.4.17 in /usr/local/lib/python3.10/dist-packages (from requests->outdated>=0.2.0->ogb>=1.3.3->dglgo) (2023.11.17)\n",
            "Collecting cerberus (from plette[validation]->requirementslib->isort>=5.10.1->dglgo)\n",
            "  Downloading Cerberus-1.3.5-py3-none-any.whl (30 kB)\n",
            "Requirement already satisfied: mpmath>=0.19 in /usr/local/lib/python3.10/dist-packages (from sympy->torch>=1.6.0->ogb>=1.3.3->dglgo) (1.3.0)\n",
            "Building wheels for collected packages: docopt, littleutils\n",
            "  Building wheel for docopt (setup.py) ... \u001b[?25l\u001b[?25hdone\n",
            "  Created wheel for docopt: filename=docopt-0.6.2-py2.py3-none-any.whl size=13706 sha256=0b48f99e13aa38b23bbe8b7bc1a65159839e0330d67a941b0b4171dde9713825\n",
            "  Stored in directory: /root/.cache/pip/wheels/fc/ab/d4/5da2067ac95b36618c629a5f93f809425700506f72c9732fac\n",
            "  Building wheel for littleutils (setup.py) ... \u001b[?25l\u001b[?25hdone\n",
            "  Created wheel for littleutils: filename=littleutils-0.2.2-py3-none-any.whl size=7026 sha256=0a205345d29f74ee3841f873378e90962c6abf93a16336ef2e24e9a1818a0d11\n",
            "  Stored in directory: /root/.cache/pip/wheels/3d/fe/b0/27a9892da57472e538c7452a721a9cf463cc03cf7379889266\n",
            "Successfully built docopt littleutils\n",
            "Installing collected packages: littleutils, docopt, distlib, cerberus, tomlkit, ruamel.yaml.clib, rdkit-pypi, pycodestyle, pip-api, pep517, yarg, ruamel.yaml, plette, outdated, autopep8, pipreqs, ogb, requirementslib, isort, numpydoc, dglgo\n",
            "Successfully installed autopep8-2.0.4 cerberus-1.3.5 dglgo-0.0.2 distlib-0.3.7 docopt-0.6.2 isort-5.13.0 littleutils-0.2.2 numpydoc-1.6.0 ogb-1.3.6 outdated-0.2.2 pep517-0.13.1 pip-api-0.0.30 pipreqs-0.4.13 plette-0.4.4 pycodestyle-2.11.1 rdkit-pypi-2022.9.5 requirementslib-3.0.0 ruamel.yaml-0.18.5 ruamel.yaml.clib-0.2.8 tomlkit-0.12.3 yarg-0.1.9\n"
          ]
        }
      ]
    },
    {
      "cell_type": "code",
      "source": [
        "from sklearn.cluster import KMeans"
      ],
      "metadata": {
        "id": "lqXYf5sSNOGx"
      },
      "execution_count": null,
      "outputs": []
    },
    {
      "cell_type": "code",
      "source": [
        "import torch\n",
        "import numpy as np\n",
        "import torch.nn as nn\n",
        "import matplotlib.pyplot as plt\n",
        "import dgl\n",
        "import dgl.function as fn\n",
        "from dgl import DGLGraph\n",
        "!export DGLBACKEND pytorch"
      ],
      "metadata": {
        "colab": {
          "base_uri": "https://localhost:8080/"
        },
        "id": "xT5VdeVbJtgm",
        "outputId": "45b97367-8d22-4f73-fc38-41bcc5440464"
      },
      "execution_count": null,
      "outputs": [
        {
          "output_type": "stream",
          "name": "stderr",
          "text": [
            "DGL backend not selected or invalid.  Assuming PyTorch for now.\n"
          ]
        },
        {
          "output_type": "stream",
          "name": "stdout",
          "text": [
            "Setting the default backend to \"pytorch\". You can change it in the ~/.dgl/config.json file or export the DGLBACKEND environment variable.  Valid options are: pytorch, mxnet, tensorflow (all lowercase)\n"
          ]
        }
      ]
    },
    {
      "cell_type": "code",
      "source": [
        "F1 = open(\"cora.cites\", \"r\")\n",
        "F1 = [i.replace(\"\\n\", \" \").replace(\"\\t\", \" \") for i in F1.readlines()]\n",
        "\n",
        "F1 = [i.split() for i in F1]\n",
        "F1 = [[int(j) for j in i] for i in  F1]"
      ],
      "metadata": {
        "id": "AZM7iSAKJzck"
      },
      "execution_count": null,
      "outputs": []
    },
    {
      "cell_type": "code",
      "source": [
        "F2 = open(\"cora.content\", \"r\")\n",
        "F2 = [i.replace(\"\\n\", \" \").replace(\"\\t\",\" \") for i in F2.readlines()]\n",
        "\n",
        "F2 = [i.split() for i in F2]\n",
        "\n",
        "for i in range(len(F2)):\n",
        "\n",
        "    for j in range(len(F2[i])):\n",
        "\n",
        "        try:\n",
        "\n",
        "            F2[i][j] = int(F2[i][j])\n",
        "\n",
        "        except ValueError:\n",
        "\n",
        "            continue\n",
        "\n",
        "for i in range(len(F2)):\n",
        "\n",
        "    F2[i] = [F2[i][0], F2[i][1 : -1], F2[i][-1]]\n",
        "\n",
        "Label_Dict = {}\n",
        "\n",
        "count = 0\n",
        "\n",
        "for i in range(len(F2)):\n",
        "\n",
        "    label = F2[i][-1]\n",
        "\n",
        "    if Label_Dict.get(label, None) == None:\n",
        "\n",
        "        Label_Dict.update({label : count})\n",
        "        count += 1"
      ],
      "metadata": {
        "id": "tjk4JM-JJ-dt"
      },
      "execution_count": null,
      "outputs": []
    },
    {
      "cell_type": "code",
      "source": [
        "Node_ID = {}\n",
        "count = 0\n",
        "for i in F2:\n",
        "\n",
        "    if Node_ID.get(i[0], None) == None:\n",
        "\n",
        "        Node_ID.update({i[0] : count})\n",
        "        count += 1\n",
        "\n",
        "F2 = [[Node_ID[i[0]], torch.tensor(i[1]), Label_Dict[i[2]]] for i in F2]"
      ],
      "metadata": {
        "id": "R9_YKdehKEnC"
      },
      "execution_count": null,
      "outputs": []
    },
    {
      "cell_type": "code",
      "source": [
        "#Generating CORA graph\n",
        "\n",
        "cora_edges = [[Node_ID[i[1]] for i in F1] + [Node_ID[i[0]] for i in F1], [Node_ID[i[0]] for i in F1] + [Node_ID[i[1]] for i in F1]]\n",
        "cora_edges = (torch.tensor(cora_edges[0]), torch.tensor(cora_edges[1]))\n",
        "\n",
        "cora_graph = dgl.graph(cora_edges)"
      ],
      "metadata": {
        "id": "mXZLO6hjKK-5"
      },
      "execution_count": null,
      "outputs": []
    },
    {
      "cell_type": "code",
      "source": [
        "Features = torch.zeros((cora_graph.nodes().size()[0], len(F2[0][1])))\n",
        "\n",
        "Node_Labels = torch.zeros((cora_graph.nodes().size()[0], ))\n",
        "\n",
        "for i in F2:\n",
        "\n",
        "    Features[i[0], :] = i[1]\n",
        "\n",
        "    Node_Labels[i[0]] = i[2]\n",
        "\n",
        "cora_graph.ndata['h'] = Features\n",
        "cora_graph.ndata['labels'] = Node_Labels"
      ],
      "metadata": {
        "id": "YH3fJh1UKLZE"
      },
      "execution_count": null,
      "outputs": []
    },
    {
      "cell_type": "code",
      "source": [
        "Nodes = [i for i in range(cora_graph.nodes().size()[0])]\n",
        "random.shuffle(Nodes)\n",
        "\n",
        "Train = Nodes[0 : int(0.65 * len(Nodes))]\n",
        "Val = Nodes[int(0.65 * len(Nodes)) : int(int(0.75 * len(Nodes)))]\n",
        "Test = Nodes[int(0.75 * len(Nodes)) : ]\n",
        "\n",
        "#Creating training, testing and validation masks\n",
        "train_mask = torch.zeros((cora_graph.nodes().size()[0], ), dtype = torch.bool)\n",
        "val_mask = torch.zeros((cora_graph.nodes().size()[0], ), dtype = torch.bool)\n",
        "test_mask = torch.zeros((cora_graph.nodes().size()[0], ), dtype = torch.bool)\n",
        "\n",
        "for i in Train:\n",
        "\n",
        "    train_mask[i] = True\n",
        "\n",
        "for i in Val:\n",
        "\n",
        "    val_mask[i] = True\n",
        "\n",
        "for i in Test:\n",
        "\n",
        "    test_mask[i] = True\n",
        "\n",
        "Label_Set = torch.zeros((cora_graph.nodes().size()[0], len(Label_Dict)))\n",
        "\n",
        "for i in F2:\n",
        "\n",
        "    node = i[0]\n",
        "    label = i[2]\n",
        "    Label_Set[node][label] = 1"
      ],
      "metadata": {
        "id": "gWt1qyJUKRaA"
      },
      "execution_count": null,
      "outputs": []
    },
    {
      "cell_type": "code",
      "source": [
        "class Net(nn.Module):\n",
        "\n",
        "    def __init__(self, n1, n2):\n",
        "\n",
        "        super(Net, self).__init__()\n",
        "\n",
        "        self.Layer1 = dgl.nn.GraphConv(n1, n2, norm = 'both', weight = True, bias = True, allow_zero_in_degree = True)\n",
        "\n",
        "        self.Activ1 = nn.Hardswish()\n",
        "\n",
        "        self.Layer2 = dgl.nn.GraphConv(n2, n2, norm = 'both', weight = True, bias = True, allow_zero_in_degree = True)\n",
        "\n",
        "        self.Activ2 = nn.LeakyReLU()\n",
        "\n",
        "        self.Layer3 = dgl.nn.GraphConv(n2, n2, norm = 'both', weight = True, bias = True, allow_zero_in_degree = True)\n",
        "\n",
        "    def forward(self, g, x):\n",
        "\n",
        "        x = self.Layer1(g, x)\n",
        "\n",
        "        x = self.Activ1(x)\n",
        "\n",
        "        x = self.Layer2(g, x)\n",
        "\n",
        "        x = self.Activ2(x)\n",
        "\n",
        "        x = self.Layer3(g, x)\n",
        "\n",
        "        return x"
      ],
      "metadata": {
        "id": "FvWdYOV-KWHl"
      },
      "execution_count": null,
      "outputs": []
    },
    {
      "cell_type": "code",
      "source": [
        "class NodeAdditionGNN(nn.Module):\n",
        "\n",
        "    def __init__(self, n1, n2, n3):\n",
        "\n",
        "        super(NodeAdditionGNN, self).__init__()\n",
        "\n",
        "        self.Net = Net(n1, n2)\n",
        "\n",
        "        self.Activ = nn.LeakyReLU()\n",
        "\n",
        "        self.Layer = nn.Linear(n2, n3)\n",
        "\n",
        "    def NodeCluster(self, g, x, y, embeddings, train, val, test, num_clusters):\n",
        "\n",
        "        embeds = embeddings.detach().numpy()\n",
        "\n",
        "        Clust = KMeans(n_clusters = num_clusters)\n",
        "\n",
        "        Clust.fit(embeds)\n",
        "\n",
        "        centres = Clust.cluster_centers_\n",
        "\n",
        "        labels = Clust.labels_\n",
        "\n",
        "        #So, clusters have been generated!\n",
        "\n",
        "        new_x = torch.zeros((x.size()[0] + num_clusters, x.size()[1]), dtype = x.dtype)\n",
        "        new_y = torch.zeros((y.size()[0] + num_clusters, y.size()[1]), dtype = y.dtype)\n",
        "        new_embeds = torch.zeros((embeddings.size()[0] + num_clusters, embeddings.size()[1]), dtype = embeddings.dtype)\n",
        "\n",
        "        new_train = torch.zeros((train.size()[0] + num_clusters, ), dtype = train.dtype)\n",
        "        new_val = torch.zeros((val.size()[0] + num_clusters, ), dtype = val.dtype)\n",
        "        new_test = torch.zeros((test.size()[0] + num_clusters, ), dtype = test.dtype)\n",
        "\n",
        "        new_train[0 : train.size()[0]] = train\n",
        "        new_val[0 : val.size()[0]] = val\n",
        "        new_test[0 : test.size()[0]] = test\n",
        "\n",
        "        num_nodes = g.number_of_nodes()\n",
        "\n",
        "        g.add_nodes(num_clusters)\n",
        "\n",
        "        cluster_count = [0 for i in range(num_clusters)]\n",
        "\n",
        "        for i in range(len(labels)):\n",
        "\n",
        "            g.add_edges(i, labels[i] + num_nodes)\n",
        "            g.add_edges(labels[i] + num_nodes, i)\n",
        "\n",
        "            cluster_count[labels[i]] += 1\n",
        "\n",
        "            new_x[labels[i] + num_nodes, :] += x[i, :]\n",
        "            new_embeds[labels[i] + num_nodes, :] += embeddings[i, :]\n",
        "\n",
        "        print(\"Cluster count: \", cluster_count)\n",
        "\n",
        "        new_x[0 : x.size()[0], :] = x\n",
        "        new_embeds[0 : embeddings.size()[0], :] = embeddings\n",
        "        new_y[0 : y.size()[0], :] = y\n",
        "\n",
        "        for i in range(num_clusters):\n",
        "\n",
        "            new_x[i + num_nodes, :] /= max(cluster_count[i], 1)\n",
        "            new_embeds[i + num_nodes, :] /= max(cluster_count[i], 1)\n",
        "\n",
        "        return g, new_x, new_y, new_embeds, new_train, new_val, new_test\n",
        "\n",
        "    def forward(self, g, x):\n",
        "\n",
        "        #Type 1 node additions:\n",
        "        #Based on initial node features\n",
        "\n",
        "        embeds = self.Net(g, x)\n",
        "\n",
        "        x = self.Activ(embeds)\n",
        "\n",
        "        x = self.Layer(x)\n",
        "\n",
        "        return x, embeds\n",
        "\n",
        "    def evaluate(self, g, x):\n",
        "\n",
        "        with torch.no_grad():\n",
        "\n",
        "            pred = self.Net(g, x)\n",
        "\n",
        "            pred = self.Activ(pred)\n",
        "\n",
        "            pred = self.Layer(pred)\n",
        "\n",
        "            return pred"
      ],
      "metadata": {
        "id": "WTQdPNDNKay-"
      },
      "execution_count": null,
      "outputs": []
    },
    {
      "cell_type": "code",
      "source": [
        "def Train(g, x, y, train, val, test, epochs, lr, num_clusters):\n",
        "\n",
        "    g.ndata['h'] = x\n",
        "\n",
        "    Model = NodeAdditionGNN(g.ndata['h'].size()[1], 400, y.size()[1])\n",
        "\n",
        "    optim = torch.optim.Adam(Model.parameters(), lr = lr, weight_decay = 1.e-5)\n",
        "\n",
        "    LossFunc = nn.CrossEntropyLoss(reduction = 'mean')\n",
        "\n",
        "    ProbabLayer = nn.Softmax(dim = 1)\n",
        "\n",
        "    embed = copy.deepcopy(x)\n",
        "\n",
        "    train_acc = []\n",
        "    val_acc = []\n",
        "\n",
        "    for i in range(epochs):\n",
        "\n",
        "        Model.train()\n",
        "\n",
        "        optim.zero_grad()\n",
        "\n",
        "        g.ndata['h'] = x\n",
        "\n",
        "        y_pred, embeds = Model(g, x)\n",
        "\n",
        "        train_loss = LossFunc(y_pred[train], y[train])\n",
        "\n",
        "        train_loss.backward()\n",
        "\n",
        "        optim.step()\n",
        "\n",
        "        Model.eval()\n",
        "\n",
        "        val_loss = LossFunc(y_pred[val], y[val])\n",
        "\n",
        "        # with torch.no_grad():\n",
        "\n",
        "        #     Model.NodeCluster(g, x, y, x, train, val, test, 10)\n",
        "\n",
        "        train_acc.append(train_loss.item())\n",
        "        val_acc.append(val_loss.item())\n",
        "\n",
        "        print(\"Epoch : \" + str(i) + \", Train Loss = \" + str(train_loss.item()) + \", Validation Loss = \" + str(val_loss.item()))\n",
        "\n",
        "        #Node clustering\n",
        "\n",
        "        if i%10 == 0:\n",
        "\n",
        "            with torch.no_grad():\n",
        "\n",
        "                g, x, y, embeds, train, val, test = Model.NodeCluster(g, x, y, embeds, train, val, test, num_clusters)\n",
        "\n",
        "        else:\n",
        "\n",
        "            continue\n",
        "\n",
        "    Model.eval()\n",
        "\n",
        "    with torch.no_grad():\n",
        "\n",
        "        y_pred = Model.evaluate(g, x)\n",
        "\n",
        "        test_loss = LossFunc(y_pred[test], y[test])\n",
        "\n",
        "        print(\"Test Loss = \" + str(test_loss.item()))\n",
        "\n",
        "    #Computing accuracy of results\n",
        "\n",
        "    P = nn.Softmax(dim = 1)\n",
        "\n",
        "    acc = 0.\n",
        "\n",
        "    with torch.no_grad():\n",
        "\n",
        "        y_pred = P(Model.evaluate(g, x))\n",
        "\n",
        "        y_pred = y_pred[test]\n",
        "        y_test = y[test]\n",
        "\n",
        "        for i in range(y_test.size()[0]):\n",
        "\n",
        "            if torch.argmax(y_pred[i, :]) == torch.argmax(y_test[i, :]):\n",
        "\n",
        "                acc += 1\n",
        "\n",
        "        print(\"Accuracy = \", acc/y_test.size()[0])\n",
        "\n",
        "    #Plotting model accuracy\n",
        "\n",
        "    # plt.figure(figsize = (8, 6), dpi = 300)\n",
        "    # plt.plot([i for i in range(len(train_acc))], train_acc, 'ro--', linewidth = 3, markersize = 8, label = 'Training Loss')\n",
        "    # plt.plot([i for i in range(len(val_acc))], val_acc, 'go--', linewidth = 3, markersize = 8, label = 'Validation Loss')\n",
        "    # plt.title('Loss accross epochs: Periodic Node addition', fontsize = 20)\n",
        "    # plt.xlabel('Epochs', fontsize = 18)\n",
        "    # plt.ylabel('Cross-Entropy Loss', fontsize = 18)\n",
        "    # plt.xticks(fontsize = 15)\n",
        "    # plt.yticks(fontsize = 15)\n",
        "    # plt.legend(fontsize = 16)\n",
        "    # plt.savefig('EpochLoss.jpeg', bbox_inches = 'tight')\n",
        "    # plt.show()\n",
        "\n",
        "    return Model, g, x, y, train, val, test, test, acc"
      ],
      "metadata": {
        "id": "GyHTeWaNPTkW"
      },
      "execution_count": null,
      "outputs": []
    },
    {
      "cell_type": "code",
      "source": [
        "Acc = []\n",
        "\n",
        "for i in range(10):\n",
        "\n",
        "    Acc.append(Train(copy.deepcopy(cora_graph), copy.deepcopy(Features), copy.deepcopy(Label_Set), copy.deepcopy(train_mask), copy.deepcopy(val_mask), copy.deepcopy(test_mask), 39, 1.e-2, 25)[-1])"
      ],
      "metadata": {
        "colab": {
          "base_uri": "https://localhost:8080/"
        },
        "id": "bnvSIymIPfrF",
        "outputId": "7749adc6-d497-4a8c-e943-6502ef4c6817"
      },
      "execution_count": null,
      "outputs": [
        {
          "output_type": "stream",
          "name": "stdout",
          "text": [
            "Epoch : 0, Train Loss = 1.9439281225204468, Validation Loss = 1.9438061714172363\n"
          ]
        },
        {
          "output_type": "stream",
          "name": "stderr",
          "text": [
            "/usr/local/lib/python3.10/dist-packages/sklearn/cluster/_kmeans.py:870: FutureWarning: The default value of `n_init` will change from 10 to 'auto' in 1.4. Set the value of `n_init` explicitly to suppress the warning\n",
            "  warnings.warn(\n"
          ]
        },
        {
          "output_type": "stream",
          "name": "stdout",
          "text": [
            "Cluster count:  [49, 71, 229, 24, 50, 228, 37, 269, 124, 73, 46, 22, 114, 33, 23, 19, 16, 5, 214, 642, 167, 104, 71, 48, 30]\n",
            "Epoch : 1, Train Loss = 1.7910010814666748, Validation Loss = 1.8202861547470093\n",
            "Epoch : 2, Train Loss = 1.6865317821502686, Validation Loss = 1.6827086210250854\n",
            "Epoch : 3, Train Loss = 1.4055513143539429, Validation Loss = 1.4381921291351318\n",
            "Epoch : 4, Train Loss = 1.2787275314331055, Validation Loss = 1.2781299352645874\n",
            "Epoch : 5, Train Loss = 1.0462019443511963, Validation Loss = 1.061163306236267\n",
            "Epoch : 6, Train Loss = 0.8870057463645935, Validation Loss = 0.9401536583900452\n",
            "Epoch : 7, Train Loss = 0.8387605547904968, Validation Loss = 0.9134250283241272\n",
            "Epoch : 8, Train Loss = 0.7872097492218018, Validation Loss = 0.8568186163902283\n",
            "Epoch : 9, Train Loss = 0.6876754760742188, Validation Loss = 0.7138069868087769\n",
            "Epoch : 10, Train Loss = 0.7096099257469177, Validation Loss = 0.7078709602355957\n"
          ]
        },
        {
          "output_type": "stream",
          "name": "stderr",
          "text": [
            "/usr/local/lib/python3.10/dist-packages/sklearn/cluster/_kmeans.py:870: FutureWarning: The default value of `n_init` will change from 10 to 'auto' in 1.4. Set the value of `n_init` explicitly to suppress the warning\n",
            "  warnings.warn(\n"
          ]
        },
        {
          "output_type": "stream",
          "name": "stdout",
          "text": [
            "Cluster count:  [202, 53, 137, 109, 464, 3, 39, 3, 195, 18, 100, 1, 140, 79, 3, 183, 48, 3, 186, 1, 166, 13, 33, 251, 303]\n",
            "Epoch : 11, Train Loss = 0.6808212995529175, Validation Loss = 0.6939188838005066\n",
            "Epoch : 12, Train Loss = 0.622255802154541, Validation Loss = 0.6911909580230713\n",
            "Epoch : 13, Train Loss = 0.5872137546539307, Validation Loss = 0.6881024241447449\n",
            "Epoch : 14, Train Loss = 0.5538472533226013, Validation Loss = 0.6551966071128845\n",
            "Epoch : 15, Train Loss = 0.5213759541511536, Validation Loss = 0.6206222772598267\n",
            "Epoch : 16, Train Loss = 0.5009557008743286, Validation Loss = 0.6024993062019348\n",
            "Epoch : 17, Train Loss = 0.48151707649230957, Validation Loss = 0.58895343542099\n",
            "Epoch : 18, Train Loss = 0.4727270305156708, Validation Loss = 0.606791615486145\n",
            "Epoch : 19, Train Loss = 0.44655999541282654, Validation Loss = 0.6093922853469849\n",
            "Epoch : 20, Train Loss = 0.4181146025657654, Validation Loss = 0.598541796207428\n"
          ]
        },
        {
          "output_type": "stream",
          "name": "stderr",
          "text": [
            "/usr/local/lib/python3.10/dist-packages/sklearn/cluster/_kmeans.py:870: FutureWarning: The default value of `n_init` will change from 10 to 'auto' in 1.4. Set the value of `n_init` explicitly to suppress the warning\n",
            "  warnings.warn(\n"
          ]
        },
        {
          "output_type": "stream",
          "name": "stdout",
          "text": [
            "Cluster count:  [474, 213, 232, 217, 5, 98, 54, 7, 6, 39, 103, 139, 2, 59, 250, 76, 32, 5, 120, 13, 270, 5, 207, 8, 124]\n",
            "Epoch : 21, Train Loss = 0.44644293189048767, Validation Loss = 0.6220490336418152\n",
            "Epoch : 22, Train Loss = 0.44474783539772034, Validation Loss = 0.6344344615936279\n",
            "Epoch : 23, Train Loss = 0.4339452087879181, Validation Loss = 0.6385402083396912\n",
            "Epoch : 24, Train Loss = 0.4160442650318146, Validation Loss = 0.6362106204032898\n",
            "Epoch : 25, Train Loss = 0.403270959854126, Validation Loss = 0.638566792011261\n",
            "Epoch : 26, Train Loss = 0.3982138931751251, Validation Loss = 0.6480281949043274\n",
            "Epoch : 27, Train Loss = 0.3905394375324249, Validation Loss = 0.6450531482696533\n",
            "Epoch : 28, Train Loss = 0.3777346909046173, Validation Loss = 0.6266560554504395\n",
            "Epoch : 29, Train Loss = 0.3639377951622009, Validation Loss = 0.6087650656700134\n",
            "Epoch : 30, Train Loss = 0.35755065083503723, Validation Loss = 0.6048712134361267\n"
          ]
        },
        {
          "output_type": "stream",
          "name": "stderr",
          "text": [
            "/usr/local/lib/python3.10/dist-packages/sklearn/cluster/_kmeans.py:870: FutureWarning: The default value of `n_init` will change from 10 to 'auto' in 1.4. Set the value of `n_init` explicitly to suppress the warning\n",
            "  warnings.warn(\n"
          ]
        },
        {
          "output_type": "stream",
          "name": "stdout",
          "text": [
            "Cluster count:  [211, 211, 273, 123, 12, 7, 125, 103, 6, 98, 217, 239, 32, 137, 66, 77, 9, 242, 40, 4, 479, 6, 59, 4, 3]\n",
            "Epoch : 31, Train Loss = 0.3877849876880646, Validation Loss = 0.6154870986938477\n",
            "Epoch : 32, Train Loss = 0.3811388909816742, Validation Loss = 0.6159225106239319\n",
            "Epoch : 33, Train Loss = 0.37476661801338196, Validation Loss = 0.6169490218162537\n",
            "Epoch : 34, Train Loss = 0.3803707957267761, Validation Loss = 0.6165443658828735\n",
            "Epoch : 35, Train Loss = 0.380316823720932, Validation Loss = 0.6402952075004578\n",
            "Epoch : 36, Train Loss = 0.35366156697273254, Validation Loss = 0.6135532259941101\n",
            "Epoch : 37, Train Loss = 0.3437058627605438, Validation Loss = 0.6178176999092102\n",
            "Epoch : 38, Train Loss = 0.35436031222343445, Validation Loss = 0.6522336602210999\n",
            "Test Loss = 0.654509425163269\n",
            "Accuracy =  0.8360413589364845\n",
            "Epoch : 0, Train Loss = 1.9379829168319702, Validation Loss = 1.937321662902832\n"
          ]
        },
        {
          "output_type": "stream",
          "name": "stderr",
          "text": [
            "/usr/local/lib/python3.10/dist-packages/sklearn/cluster/_kmeans.py:870: FutureWarning: The default value of `n_init` will change from 10 to 'auto' in 1.4. Set the value of `n_init` explicitly to suppress the warning\n",
            "  warnings.warn(\n"
          ]
        },
        {
          "output_type": "stream",
          "name": "stdout",
          "text": [
            "Cluster count:  [41, 123, 67, 51, 17, 23, 228, 251, 18, 635, 19, 21, 12, 76, 19, 258, 64, 40, 1, 27, 114, 54, 343, 205, 1]\n",
            "Epoch : 1, Train Loss = 1.7949988842010498, Validation Loss = 1.8141891956329346\n",
            "Epoch : 2, Train Loss = 1.5422694683074951, Validation Loss = 1.5487557649612427\n",
            "Epoch : 3, Train Loss = 1.352666974067688, Validation Loss = 1.376237392425537\n",
            "Epoch : 4, Train Loss = 1.4028931856155396, Validation Loss = 1.3893342018127441\n",
            "Epoch : 5, Train Loss = 1.4347184896469116, Validation Loss = 1.4068902730941772\n",
            "Epoch : 6, Train Loss = 1.2533271312713623, Validation Loss = 1.2949717044830322\n",
            "Epoch : 7, Train Loss = 1.037558674812317, Validation Loss = 1.0627564191818237\n",
            "Epoch : 8, Train Loss = 0.8246594071388245, Validation Loss = 0.8499011397361755\n",
            "Epoch : 9, Train Loss = 0.7225977182388306, Validation Loss = 0.7768188714981079\n",
            "Epoch : 10, Train Loss = 0.67305588722229, Validation Loss = 0.7621912360191345\n"
          ]
        },
        {
          "output_type": "stream",
          "name": "stderr",
          "text": [
            "/usr/local/lib/python3.10/dist-packages/sklearn/cluster/_kmeans.py:870: FutureWarning: The default value of `n_init` will change from 10 to 'auto' in 1.4. Set the value of `n_init` explicitly to suppress the warning\n",
            "  warnings.warn(\n"
          ]
        },
        {
          "output_type": "stream",
          "name": "stdout",
          "text": [
            "Cluster count:  [556, 131, 31, 111, 70, 2, 111, 1, 2, 287, 51, 3, 9, 2, 108, 185, 90, 1, 379, 154, 51, 179, 11, 176, 32]\n",
            "Epoch : 11, Train Loss = 0.6990088820457458, Validation Loss = 0.8002222776412964\n",
            "Epoch : 12, Train Loss = 0.6207761764526367, Validation Loss = 0.7154892683029175\n",
            "Epoch : 13, Train Loss = 0.6345528960227966, Validation Loss = 0.7471166253089905\n",
            "Epoch : 14, Train Loss = 0.5396563410758972, Validation Loss = 0.6884982585906982\n",
            "Epoch : 15, Train Loss = 0.5671442151069641, Validation Loss = 0.7091575860977173\n",
            "Epoch : 16, Train Loss = 0.5755568146705627, Validation Loss = 0.7000875473022461\n",
            "Epoch : 17, Train Loss = 0.5106227397918701, Validation Loss = 0.6409164667129517\n",
            "Epoch : 18, Train Loss = 0.46740368008613586, Validation Loss = 0.5822826027870178\n",
            "Epoch : 19, Train Loss = 0.4878060817718506, Validation Loss = 0.6110692620277405\n",
            "Epoch : 20, Train Loss = 0.4533688724040985, Validation Loss = 0.5975738167762756\n"
          ]
        },
        {
          "output_type": "stream",
          "name": "stderr",
          "text": [
            "/usr/local/lib/python3.10/dist-packages/sklearn/cluster/_kmeans.py:870: FutureWarning: The default value of `n_init` will change from 10 to 'auto' in 1.4. Set the value of `n_init` explicitly to suppress the warning\n",
            "  warnings.warn(\n"
          ]
        },
        {
          "output_type": "stream",
          "name": "stdout",
          "text": [
            "Cluster count:  [176, 136, 76, 77, 45, 69, 4, 5, 130, 10, 174, 30, 201, 2, 4, 3, 561, 208, 279, 123, 2, 110, 10, 289, 34]\n",
            "Epoch : 21, Train Loss = 0.46487271785736084, Validation Loss = 0.6415345668792725\n",
            "Epoch : 22, Train Loss = 0.4828927516937256, Validation Loss = 0.687752366065979\n",
            "Epoch : 23, Train Loss = 0.46028703451156616, Validation Loss = 0.6770145893096924\n",
            "Epoch : 24, Train Loss = 0.45068350434303284, Validation Loss = 0.6793850064277649\n",
            "Epoch : 25, Train Loss = 0.44484153389930725, Validation Loss = 0.6874850988388062\n",
            "Epoch : 26, Train Loss = 0.4230422079563141, Validation Loss = 0.6749292016029358\n",
            "Epoch : 27, Train Loss = 0.41893887519836426, Validation Loss = 0.6743525266647339\n",
            "Epoch : 28, Train Loss = 0.4112844169139862, Validation Loss = 0.664273202419281\n",
            "Epoch : 29, Train Loss = 0.39984720945358276, Validation Loss = 0.6477101445198059\n",
            "Epoch : 30, Train Loss = 0.38630521297454834, Validation Loss = 0.628240168094635\n"
          ]
        },
        {
          "output_type": "stream",
          "name": "stderr",
          "text": [
            "/usr/local/lib/python3.10/dist-packages/sklearn/cluster/_kmeans.py:870: FutureWarning: The default value of `n_init` will change from 10 to 'auto' in 1.4. Set the value of `n_init` explicitly to suppress the warning\n",
            "  warnings.warn(\n"
          ]
        },
        {
          "output_type": "stream",
          "name": "stdout",
          "text": [
            "Cluster count:  [570, 9, 202, 48, 111, 207, 11, 110, 3, 7, 138, 27, 119, 288, 280, 134, 173, 76, 3, 71, 7, 11, 2, 3, 173]\n",
            "Epoch : 31, Train Loss = 0.4324813783168793, Validation Loss = 0.6712282299995422\n",
            "Epoch : 32, Train Loss = 0.4193677008152008, Validation Loss = 0.6638243198394775\n",
            "Epoch : 33, Train Loss = 0.40528368949890137, Validation Loss = 0.6688664555549622\n",
            "Epoch : 34, Train Loss = 0.3986864686012268, Validation Loss = 0.6812782287597656\n",
            "Epoch : 35, Train Loss = 0.3930974304676056, Validation Loss = 0.6918336153030396\n",
            "Epoch : 36, Train Loss = 0.38175421953201294, Validation Loss = 0.6973065733909607\n",
            "Epoch : 37, Train Loss = 0.3716469705104828, Validation Loss = 0.6806217432022095\n",
            "Epoch : 38, Train Loss = 0.3640294373035431, Validation Loss = 0.6594695448875427\n",
            "Test Loss = 0.6498358845710754\n",
            "Accuracy =  0.8404726735598228\n",
            "Epoch : 0, Train Loss = 1.952935814857483, Validation Loss = 1.953925609588623\n"
          ]
        },
        {
          "output_type": "stream",
          "name": "stderr",
          "text": [
            "/usr/local/lib/python3.10/dist-packages/sklearn/cluster/_kmeans.py:870: FutureWarning: The default value of `n_init` will change from 10 to 'auto' in 1.4. Set the value of `n_init` explicitly to suppress the warning\n",
            "  warnings.warn(\n"
          ]
        },
        {
          "output_type": "stream",
          "name": "stdout",
          "text": [
            "Cluster count:  [5, 163, 58, 26, 27, 253, 600, 140, 100, 60, 343, 45, 1, 406, 24, 33, 7, 1, 7, 52, 64, 28, 183, 64, 18]\n",
            "Epoch : 1, Train Loss = 1.7933714389801025, Validation Loss = 1.8154510259628296\n",
            "Epoch : 2, Train Loss = 1.6433641910552979, Validation Loss = 1.6865946054458618\n",
            "Epoch : 3, Train Loss = 1.7571334838867188, Validation Loss = 1.7579951286315918\n",
            "Epoch : 4, Train Loss = 1.5691819190979004, Validation Loss = 1.5762648582458496\n",
            "Epoch : 5, Train Loss = 1.3345648050308228, Validation Loss = 1.323381781578064\n",
            "Epoch : 6, Train Loss = 1.1837184429168701, Validation Loss = 1.1599587202072144\n",
            "Epoch : 7, Train Loss = 1.0353398323059082, Validation Loss = 1.0577479600906372\n",
            "Epoch : 8, Train Loss = 0.8530541062355042, Validation Loss = 0.8386943936347961\n",
            "Epoch : 9, Train Loss = 0.88441002368927, Validation Loss = 0.8551655411720276\n",
            "Epoch : 10, Train Loss = 0.7239469885826111, Validation Loss = 0.7346866726875305\n"
          ]
        },
        {
          "output_type": "stream",
          "name": "stderr",
          "text": [
            "/usr/local/lib/python3.10/dist-packages/sklearn/cluster/_kmeans.py:870: FutureWarning: The default value of `n_init` will change from 10 to 'auto' in 1.4. Set the value of `n_init` explicitly to suppress the warning\n",
            "  warnings.warn(\n"
          ]
        },
        {
          "output_type": "stream",
          "name": "stdout",
          "text": [
            "Cluster count:  [367, 43, 176, 112, 2, 481, 50, 1, 103, 40, 94, 1, 302, 1, 351, 199, 1, 17, 2, 1, 31, 174, 29, 6, 149]\n",
            "Epoch : 11, Train Loss = 0.746812105178833, Validation Loss = 0.85136878490448\n",
            "Epoch : 12, Train Loss = 0.708191454410553, Validation Loss = 0.787956714630127\n",
            "Epoch : 13, Train Loss = 0.6597523093223572, Validation Loss = 0.7470924854278564\n",
            "Epoch : 14, Train Loss = 0.6776462197303772, Validation Loss = 0.7600644826889038\n",
            "Epoch : 15, Train Loss = 0.5937516093254089, Validation Loss = 0.6465710997581482\n",
            "Epoch : 16, Train Loss = 0.5695969462394714, Validation Loss = 0.6063128113746643\n",
            "Epoch : 17, Train Loss = 0.536849856376648, Validation Loss = 0.5843262076377869\n",
            "Epoch : 18, Train Loss = 0.5329179763793945, Validation Loss = 0.6000441312789917\n",
            "Epoch : 19, Train Loss = 0.49240031838417053, Validation Loss = 0.572662889957428\n",
            "Epoch : 20, Train Loss = 0.47173863649368286, Validation Loss = 0.5570958256721497\n"
          ]
        },
        {
          "output_type": "stream",
          "name": "stderr",
          "text": [
            "/usr/local/lib/python3.10/dist-packages/sklearn/cluster/_kmeans.py:870: FutureWarning: The default value of `n_init` will change from 10 to 'auto' in 1.4. Set the value of `n_init` explicitly to suppress the warning\n",
            "  warnings.warn(\n"
          ]
        },
        {
          "output_type": "stream",
          "name": "stdout",
          "text": [
            "Cluster count:  [512, 25, 114, 91, 5, 295, 4, 4, 5, 183, 1, 40, 126, 28, 506, 151, 112, 38, 2, 4, 212, 19, 7, 226, 48]\n",
            "Epoch : 21, Train Loss = 0.5050448775291443, Validation Loss = 0.5754445195198059\n",
            "Epoch : 22, Train Loss = 0.4955928921699524, Validation Loss = 0.5742332935333252\n",
            "Epoch : 23, Train Loss = 0.4815012812614441, Validation Loss = 0.565582811832428\n",
            "Epoch : 24, Train Loss = 0.4638674855232239, Validation Loss = 0.5528331995010376\n",
            "Epoch : 25, Train Loss = 0.45248717069625854, Validation Loss = 0.5540884137153625\n",
            "Epoch : 26, Train Loss = 0.4388027489185333, Validation Loss = 0.5579766035079956\n",
            "Epoch : 27, Train Loss = 0.43123501539230347, Validation Loss = 0.5665967464447021\n",
            "Epoch : 28, Train Loss = 0.41725680232048035, Validation Loss = 0.5621320009231567\n",
            "Epoch : 29, Train Loss = 0.40837007761001587, Validation Loss = 0.5550146698951721\n",
            "Epoch : 30, Train Loss = 0.39887362718582153, Validation Loss = 0.5432555675506592\n"
          ]
        },
        {
          "output_type": "stream",
          "name": "stderr",
          "text": [
            "/usr/local/lib/python3.10/dist-packages/sklearn/cluster/_kmeans.py:870: FutureWarning: The default value of `n_init` will change from 10 to 'auto' in 1.4. Set the value of `n_init` explicitly to suppress the warning\n",
            "  warnings.warn(\n"
          ]
        },
        {
          "output_type": "stream",
          "name": "stdout",
          "text": [
            "Cluster count:  [188, 519, 116, 27, 189, 9, 50, 7, 123, 125, 1, 216, 7, 7, 142, 2, 4, 88, 57, 300, 5, 35, 8, 507, 51]\n",
            "Epoch : 31, Train Loss = 0.43413764238357544, Validation Loss = 0.5619611740112305\n",
            "Epoch : 32, Train Loss = 0.41976284980773926, Validation Loss = 0.5582090616226196\n",
            "Epoch : 33, Train Loss = 0.4131128489971161, Validation Loss = 0.5606265664100647\n",
            "Epoch : 34, Train Loss = 0.4043424725532532, Validation Loss = 0.5611738562583923\n",
            "Epoch : 35, Train Loss = 0.3949342668056488, Validation Loss = 0.5657861828804016\n",
            "Epoch : 36, Train Loss = 0.39169150590896606, Validation Loss = 0.5802498459815979\n",
            "Epoch : 37, Train Loss = 0.39833176136016846, Validation Loss = 0.6048291325569153\n",
            "Epoch : 38, Train Loss = 0.4047093689441681, Validation Loss = 0.6107052564620972\n",
            "Test Loss = 0.6958956122398376\n",
            "Accuracy =  0.8168389955686853\n",
            "Epoch : 0, Train Loss = 1.9394077062606812, Validation Loss = 1.9398877620697021\n"
          ]
        },
        {
          "output_type": "stream",
          "name": "stderr",
          "text": [
            "/usr/local/lib/python3.10/dist-packages/sklearn/cluster/_kmeans.py:870: FutureWarning: The default value of `n_init` will change from 10 to 'auto' in 1.4. Set the value of `n_init` explicitly to suppress the warning\n",
            "  warnings.warn(\n"
          ]
        },
        {
          "output_type": "stream",
          "name": "stdout",
          "text": [
            "Cluster count:  [574, 87, 34, 263, 63, 154, 43, 163, 39, 14, 14, 138, 26, 21, 33, 1, 33, 43, 232, 192, 487, 32, 14, 7, 1]\n",
            "Epoch : 1, Train Loss = 1.790907382965088, Validation Loss = 1.809399127960205\n",
            "Epoch : 2, Train Loss = 1.9243383407592773, Validation Loss = 2.0267927646636963\n",
            "Epoch : 3, Train Loss = 1.6996052265167236, Validation Loss = 1.693415880203247\n",
            "Epoch : 4, Train Loss = 1.538831353187561, Validation Loss = 1.549372673034668\n",
            "Epoch : 5, Train Loss = 1.3456239700317383, Validation Loss = 1.3604686260223389\n",
            "Epoch : 6, Train Loss = 1.2483195066452026, Validation Loss = 1.257418155670166\n",
            "Epoch : 7, Train Loss = 1.1810710430145264, Validation Loss = 1.165419578552246\n",
            "Epoch : 8, Train Loss = 1.0701930522918701, Validation Loss = 1.1692906618118286\n",
            "Epoch : 9, Train Loss = 0.95054030418396, Validation Loss = 0.9941499829292297\n",
            "Epoch : 10, Train Loss = 1.064565896987915, Validation Loss = 1.0630643367767334\n"
          ]
        },
        {
          "output_type": "stream",
          "name": "stderr",
          "text": [
            "/usr/local/lib/python3.10/dist-packages/sklearn/cluster/_kmeans.py:870: FutureWarning: The default value of `n_init` will change from 10 to 'auto' in 1.4. Set the value of `n_init` explicitly to suppress the warning\n",
            "  warnings.warn(\n"
          ]
        },
        {
          "output_type": "stream",
          "name": "stdout",
          "text": [
            "Cluster count:  [25, 182, 101, 131, 95, 1, 350, 542, 2, 48, 7, 1, 37, 434, 161, 14, 130, 4, 42, 199, 87, 2, 1, 136, 1]\n",
            "Epoch : 11, Train Loss = 0.9314484596252441, Validation Loss = 0.9352389574050903\n",
            "Epoch : 12, Train Loss = 0.9160029888153076, Validation Loss = 0.9686546325683594\n",
            "Epoch : 13, Train Loss = 0.7626638412475586, Validation Loss = 0.8341707587242126\n",
            "Epoch : 14, Train Loss = 0.7226768732070923, Validation Loss = 0.7693533897399902\n",
            "Epoch : 15, Train Loss = 0.6732767224311829, Validation Loss = 0.6945430636405945\n",
            "Epoch : 16, Train Loss = 0.671534538269043, Validation Loss = 0.6911818385124207\n",
            "Epoch : 17, Train Loss = 0.6135772466659546, Validation Loss = 0.646564245223999\n",
            "Epoch : 18, Train Loss = 0.5747517943382263, Validation Loss = 0.6343551278114319\n",
            "Epoch : 19, Train Loss = 0.5342455506324768, Validation Loss = 0.6227394342422485\n",
            "Epoch : 20, Train Loss = 0.5271186232566833, Validation Loss = 0.6530978679656982\n"
          ]
        },
        {
          "output_type": "stream",
          "name": "stderr",
          "text": [
            "/usr/local/lib/python3.10/dist-packages/sklearn/cluster/_kmeans.py:870: FutureWarning: The default value of `n_init` will change from 10 to 'auto' in 1.4. Set the value of `n_init` explicitly to suppress the warning\n",
            "  warnings.warn(\n"
          ]
        },
        {
          "output_type": "stream",
          "name": "stdout",
          "text": [
            "Cluster count:  [662, 50, 90, 219, 174, 49, 8, 43, 163, 4, 4, 272, 3, 14, 93, 58, 92, 201, 384, 2, 30, 3, 132, 3, 5]\n",
            "Epoch : 21, Train Loss = 0.5549610257148743, Validation Loss = 0.690409779548645\n",
            "Epoch : 22, Train Loss = 0.5583751797676086, Validation Loss = 0.7049516439437866\n",
            "Epoch : 23, Train Loss = 0.5463564395904541, Validation Loss = 0.6911506056785583\n",
            "Epoch : 24, Train Loss = 0.5199505686759949, Validation Loss = 0.6551870107650757\n",
            "Epoch : 25, Train Loss = 0.5021741986274719, Validation Loss = 0.6272311210632324\n",
            "Epoch : 26, Train Loss = 0.5036769509315491, Validation Loss = 0.6226145625114441\n",
            "Epoch : 27, Train Loss = 0.49677345156669617, Validation Loss = 0.6195076704025269\n",
            "Epoch : 28, Train Loss = 0.4878864586353302, Validation Loss = 0.6242753267288208\n",
            "Epoch : 29, Train Loss = 0.47669002413749695, Validation Loss = 0.6292038559913635\n",
            "Epoch : 30, Train Loss = 0.46832647919654846, Validation Loss = 0.6370356678962708\n"
          ]
        },
        {
          "output_type": "stream",
          "name": "stderr",
          "text": [
            "/usr/local/lib/python3.10/dist-packages/sklearn/cluster/_kmeans.py:870: FutureWarning: The default value of `n_init` will change from 10 to 'auto' in 1.4. Set the value of `n_init` explicitly to suppress the warning\n",
            "  warnings.warn(\n"
          ]
        },
        {
          "output_type": "stream",
          "name": "stdout",
          "text": [
            "Cluster count:  [15, 283, 85, 140, 173, 6, 384, 4, 6, 61, 664, 165, 10, 42, 87, 207, 6, 249, 2, 48, 129, 3, 5, 6, 3]\n",
            "Epoch : 31, Train Loss = 0.49570727348327637, Validation Loss = 0.6722421646118164\n",
            "Epoch : 32, Train Loss = 0.4843887984752655, Validation Loss = 0.6710954904556274\n",
            "Epoch : 33, Train Loss = 0.47794151306152344, Validation Loss = 0.6683355569839478\n",
            "Epoch : 34, Train Loss = 0.4707472622394562, Validation Loss = 0.6618382334709167\n",
            "Epoch : 35, Train Loss = 0.46238693594932556, Validation Loss = 0.6546210646629333\n",
            "Epoch : 36, Train Loss = 0.45178502798080444, Validation Loss = 0.6453533172607422\n",
            "Epoch : 37, Train Loss = 0.44640210270881653, Validation Loss = 0.6412166357040405\n",
            "Epoch : 38, Train Loss = 0.439406156539917, Validation Loss = 0.6369447708129883\n",
            "Test Loss = 0.6632293462753296\n",
            "Accuracy =  0.8064992614475628\n",
            "Epoch : 0, Train Loss = 1.9431276321411133, Validation Loss = 1.9432016611099243\n"
          ]
        },
        {
          "output_type": "stream",
          "name": "stderr",
          "text": [
            "/usr/local/lib/python3.10/dist-packages/sklearn/cluster/_kmeans.py:870: FutureWarning: The default value of `n_init` will change from 10 to 'auto' in 1.4. Set the value of `n_init` explicitly to suppress the warning\n",
            "  warnings.warn(\n"
          ]
        },
        {
          "output_type": "stream",
          "name": "stdout",
          "text": [
            "Cluster count:  [228, 57, 23, 211, 41, 95, 27, 70, 69, 63, 1, 1, 50, 22, 12, 455, 38, 196, 6, 165, 67, 166, 2, 7, 636]\n",
            "Epoch : 1, Train Loss = 1.8024147748947144, Validation Loss = 1.8404169082641602\n",
            "Epoch : 2, Train Loss = 1.6952091455459595, Validation Loss = 1.6981759071350098\n",
            "Epoch : 3, Train Loss = 1.5543714761734009, Validation Loss = 1.5986887216567993\n",
            "Epoch : 4, Train Loss = 1.2617812156677246, Validation Loss = 1.2533280849456787\n",
            "Epoch : 5, Train Loss = 1.0508339405059814, Validation Loss = 1.048769235610962\n",
            "Epoch : 6, Train Loss = 0.8421005010604858, Validation Loss = 0.820460319519043\n",
            "Epoch : 7, Train Loss = 0.8678050637245178, Validation Loss = 0.8561297059059143\n",
            "Epoch : 8, Train Loss = 0.7022749185562134, Validation Loss = 0.6703396439552307\n",
            "Epoch : 9, Train Loss = 0.7762821316719055, Validation Loss = 0.7490358352661133\n",
            "Epoch : 10, Train Loss = 0.7677052021026611, Validation Loss = 0.8065770864486694\n"
          ]
        },
        {
          "output_type": "stream",
          "name": "stderr",
          "text": [
            "/usr/local/lib/python3.10/dist-packages/sklearn/cluster/_kmeans.py:870: FutureWarning: The default value of `n_init` will change from 10 to 'auto' in 1.4. Set the value of `n_init` explicitly to suppress the warning\n",
            "  warnings.warn(\n"
          ]
        },
        {
          "output_type": "stream",
          "name": "stdout",
          "text": [
            "Cluster count:  [167, 286, 120, 77, 12, 72, 139, 2, 170, 29, 40, 2, 464, 2, 6, 1, 58, 239, 2, 1, 65, 174, 143, 52, 410]\n",
            "Epoch : 11, Train Loss = 0.7400042414665222, Validation Loss = 0.833465576171875\n",
            "Epoch : 12, Train Loss = 0.6673190593719482, Validation Loss = 0.7881175875663757\n",
            "Epoch : 13, Train Loss = 0.6592094898223877, Validation Loss = 0.7746608853340149\n",
            "Epoch : 14, Train Loss = 0.5952436923980713, Validation Loss = 0.7036300897598267\n",
            "Epoch : 15, Train Loss = 0.5588065385818481, Validation Loss = 0.6614141464233398\n",
            "Epoch : 16, Train Loss = 0.517537534236908, Validation Loss = 0.6254010796546936\n",
            "Epoch : 17, Train Loss = 0.5194128751754761, Validation Loss = 0.6529276967048645\n",
            "Epoch : 18, Train Loss = 0.48446404933929443, Validation Loss = 0.6254833340644836\n",
            "Epoch : 19, Train Loss = 0.4421136975288391, Validation Loss = 0.608303964138031\n",
            "Epoch : 20, Train Loss = 0.4377588927745819, Validation Loss = 0.6484167575836182\n"
          ]
        },
        {
          "output_type": "stream",
          "name": "stderr",
          "text": [
            "/usr/local/lib/python3.10/dist-packages/sklearn/cluster/_kmeans.py:870: FutureWarning: The default value of `n_init` will change from 10 to 'auto' in 1.4. Set the value of `n_init` explicitly to suppress the warning\n",
            "  warnings.warn(\n"
          ]
        },
        {
          "output_type": "stream",
          "name": "stdout",
          "text": [
            "Cluster count:  [179, 243, 156, 75, 8, 54, 40, 437, 4, 8, 283, 113, 54, 4, 33, 255, 5, 4, 128, 182, 154, 62, 33, 166, 78]\n",
            "Epoch : 21, Train Loss = 0.47236669063568115, Validation Loss = 0.6911760568618774\n",
            "Epoch : 22, Train Loss = 0.4534969925880432, Validation Loss = 0.6821011900901794\n",
            "Epoch : 23, Train Loss = 0.4322390556335449, Validation Loss = 0.662370502948761\n",
            "Epoch : 24, Train Loss = 0.4165792763233185, Validation Loss = 0.6458649039268494\n",
            "Epoch : 25, Train Loss = 0.4152701199054718, Validation Loss = 0.6423590779304504\n",
            "Epoch : 26, Train Loss = 0.3999980092048645, Validation Loss = 0.6312634944915771\n",
            "Epoch : 27, Train Loss = 0.3825579285621643, Validation Loss = 0.6083325743675232\n",
            "Epoch : 28, Train Loss = 0.37762513756752014, Validation Loss = 0.6179475784301758\n",
            "Epoch : 29, Train Loss = 0.37220439314842224, Validation Loss = 0.6291099190711975\n",
            "Epoch : 30, Train Loss = 0.35981452465057373, Validation Loss = 0.626258134841919\n"
          ]
        },
        {
          "output_type": "stream",
          "name": "stderr",
          "text": [
            "/usr/local/lib/python3.10/dist-packages/sklearn/cluster/_kmeans.py:870: FutureWarning: The default value of `n_init` will change from 10 to 'auto' in 1.4. Set the value of `n_init` explicitly to suppress the warning\n",
            "  warnings.warn(\n"
          ]
        },
        {
          "output_type": "stream",
          "name": "stdout",
          "text": [
            "Cluster count:  [475, 55, 353, 38, 5, 75, 307, 59, 35, 10, 32, 79, 4, 6, 240, 129, 112, 6, 167, 330, 187, 5, 64, 3, 7]\n",
            "Epoch : 31, Train Loss = 0.3924632966518402, Validation Loss = 0.6384736895561218\n",
            "Epoch : 32, Train Loss = 0.377638578414917, Validation Loss = 0.6326462626457214\n",
            "Epoch : 33, Train Loss = 0.3730068802833557, Validation Loss = 0.6478927731513977\n",
            "Epoch : 34, Train Loss = 0.356995552778244, Validation Loss = 0.6412859559059143\n",
            "Epoch : 35, Train Loss = 0.35277754068374634, Validation Loss = 0.6309928297996521\n",
            "Epoch : 36, Train Loss = 0.34686535596847534, Validation Loss = 0.6439839005470276\n",
            "Epoch : 37, Train Loss = 0.33882778882980347, Validation Loss = 0.6323196887969971\n",
            "Epoch : 38, Train Loss = 0.3256869912147522, Validation Loss = 0.6285363435745239\n",
            "Test Loss = 0.6420015096664429\n",
            "Accuracy =  0.827178729689808\n",
            "Epoch : 0, Train Loss = 1.9511162042617798, Validation Loss = 1.9501639604568481\n"
          ]
        },
        {
          "output_type": "stream",
          "name": "stderr",
          "text": [
            "/usr/local/lib/python3.10/dist-packages/sklearn/cluster/_kmeans.py:870: FutureWarning: The default value of `n_init` will change from 10 to 'auto' in 1.4. Set the value of `n_init` explicitly to suppress the warning\n",
            "  warnings.warn(\n"
          ]
        },
        {
          "output_type": "stream",
          "name": "stdout",
          "text": [
            "Cluster count:  [296, 21, 45, 52, 53, 42, 140, 37, 441, 38, 197, 158, 226, 121, 126, 7, 73, 426, 134, 1, 25, 36, 1, 1, 11]\n",
            "Epoch : 1, Train Loss = 1.7868281602859497, Validation Loss = 1.8160628080368042\n",
            "Epoch : 2, Train Loss = 1.4978915452957153, Validation Loss = 1.5049577951431274\n",
            "Epoch : 3, Train Loss = 1.2007322311401367, Validation Loss = 1.2001276016235352\n",
            "Epoch : 4, Train Loss = 1.234894871711731, Validation Loss = 1.2173887491226196\n",
            "Epoch : 5, Train Loss = 1.3660876750946045, Validation Loss = 1.355439305305481\n",
            "Epoch : 6, Train Loss = 0.9991916418075562, Validation Loss = 0.9563447833061218\n",
            "Epoch : 7, Train Loss = 1.0016337633132935, Validation Loss = 0.9024642705917358\n",
            "Epoch : 8, Train Loss = 0.8225140571594238, Validation Loss = 0.7454773187637329\n",
            "Epoch : 9, Train Loss = 0.7146346569061279, Validation Loss = 0.7157480716705322\n",
            "Epoch : 10, Train Loss = 0.6794846057891846, Validation Loss = 0.7760084271430969\n"
          ]
        },
        {
          "output_type": "stream",
          "name": "stderr",
          "text": [
            "/usr/local/lib/python3.10/dist-packages/sklearn/cluster/_kmeans.py:870: FutureWarning: The default value of `n_init` will change from 10 to 'auto' in 1.4. Set the value of `n_init` explicitly to suppress the warning\n",
            "  warnings.warn(\n"
          ]
        },
        {
          "output_type": "stream",
          "name": "stdout",
          "text": [
            "Cluster count:  [182, 386, 6, 40, 99, 258, 2, 174, 9, 3, 187, 234, 7, 2, 42, 355, 1, 77, 135, 46, 99, 156, 152, 35, 46]\n",
            "Epoch : 11, Train Loss = 0.8261087536811829, Validation Loss = 0.9210761785507202\n",
            "Epoch : 12, Train Loss = 0.6811628937721252, Validation Loss = 0.7593998312950134\n",
            "Epoch : 13, Train Loss = 0.6131448149681091, Validation Loss = 0.6801413297653198\n",
            "Epoch : 14, Train Loss = 0.6094300150871277, Validation Loss = 0.6628199219703674\n",
            "Epoch : 15, Train Loss = 0.592752993106842, Validation Loss = 0.6696233153343201\n",
            "Epoch : 16, Train Loss = 0.5344695448875427, Validation Loss = 0.6462792754173279\n",
            "Epoch : 17, Train Loss = 0.5263798832893372, Validation Loss = 0.6459351181983948\n",
            "Epoch : 18, Train Loss = 0.5037765502929688, Validation Loss = 0.6227769255638123\n",
            "Epoch : 19, Train Loss = 0.47550520300865173, Validation Loss = 0.6108394265174866\n",
            "Epoch : 20, Train Loss = 0.46600082516670227, Validation Loss = 0.6231399774551392\n"
          ]
        },
        {
          "output_type": "stream",
          "name": "stderr",
          "text": [
            "/usr/local/lib/python3.10/dist-packages/sklearn/cluster/_kmeans.py:870: FutureWarning: The default value of `n_init` will change from 10 to 'auto' in 1.4. Set the value of `n_init` explicitly to suppress the warning\n",
            "  warnings.warn(\n"
          ]
        },
        {
          "output_type": "stream",
          "name": "stdout",
          "text": [
            "Cluster count:  [601, 34, 80, 138, 3, 118, 212, 80, 4, 207, 3, 120, 12, 388, 110, 6, 3, 139, 42, 37, 4, 120, 182, 4, 111]\n",
            "Epoch : 21, Train Loss = 0.49603331089019775, Validation Loss = 0.632493793964386\n",
            "Epoch : 22, Train Loss = 0.48601213097572327, Validation Loss = 0.6304749250411987\n",
            "Epoch : 23, Train Loss = 0.46403902769088745, Validation Loss = 0.6068267822265625\n",
            "Epoch : 24, Train Loss = 0.4583893120288849, Validation Loss = 0.5976227521896362\n",
            "Epoch : 25, Train Loss = 0.45009085536003113, Validation Loss = 0.5941423773765564\n",
            "Epoch : 26, Train Loss = 0.4498545825481415, Validation Loss = 0.5956231951713562\n",
            "Epoch : 27, Train Loss = 0.43382054567337036, Validation Loss = 0.5755269527435303\n",
            "Epoch : 28, Train Loss = 0.42546552419662476, Validation Loss = 0.5775593519210815\n",
            "Epoch : 29, Train Loss = 0.4108349084854126, Validation Loss = 0.5859870910644531\n",
            "Epoch : 30, Train Loss = 0.4124669134616852, Validation Loss = 0.6087326407432556\n"
          ]
        },
        {
          "output_type": "stream",
          "name": "stderr",
          "text": [
            "/usr/local/lib/python3.10/dist-packages/sklearn/cluster/_kmeans.py:870: FutureWarning: The default value of `n_init` will change from 10 to 'auto' in 1.4. Set the value of `n_init` explicitly to suppress the warning\n",
            "  warnings.warn(\n"
          ]
        },
        {
          "output_type": "stream",
          "name": "stdout",
          "text": [
            "Cluster count:  [125, 45, 6, 144, 117, 5, 390, 117, 599, 52, 103, 204, 9, 83, 4, 36, 9, 182, 6, 139, 109, 209, 3, 3, 84]\n",
            "Epoch : 31, Train Loss = 0.44224870204925537, Validation Loss = 0.6049335598945618\n",
            "Epoch : 32, Train Loss = 0.4338836669921875, Validation Loss = 0.6079787015914917\n",
            "Epoch : 33, Train Loss = 0.419187992811203, Validation Loss = 0.6075530052185059\n",
            "Epoch : 34, Train Loss = 0.4183480441570282, Validation Loss = 0.6130549311637878\n",
            "Epoch : 35, Train Loss = 0.4061194062232971, Validation Loss = 0.604872465133667\n",
            "Epoch : 36, Train Loss = 0.40434548258781433, Validation Loss = 0.6194546818733215\n",
            "Epoch : 37, Train Loss = 0.394640177488327, Validation Loss = 0.6294678449630737\n",
            "Epoch : 38, Train Loss = 0.39012807607650757, Validation Loss = 0.6324946880340576\n",
            "Test Loss = 0.6525008082389832\n",
            "Accuracy =  0.8404726735598228\n",
            "Epoch : 0, Train Loss = 1.9587950706481934, Validation Loss = 1.9574053287506104\n"
          ]
        },
        {
          "output_type": "stream",
          "name": "stderr",
          "text": [
            "/usr/local/lib/python3.10/dist-packages/sklearn/cluster/_kmeans.py:870: FutureWarning: The default value of `n_init` will change from 10 to 'auto' in 1.4. Set the value of `n_init` explicitly to suppress the warning\n",
            "  warnings.warn(\n"
          ]
        },
        {
          "output_type": "stream",
          "name": "stdout",
          "text": [
            "Cluster count:  [205, 23, 117, 48, 276, 16, 25, 49, 5, 30, 245, 103, 11, 66, 29, 58, 21, 45, 209, 592, 69, 157, 32, 152, 125]\n",
            "Epoch : 1, Train Loss = 1.7912589311599731, Validation Loss = 1.8082067966461182\n",
            "Epoch : 2, Train Loss = 2.362781286239624, Validation Loss = 2.5171010494232178\n",
            "Epoch : 3, Train Loss = 1.7421730756759644, Validation Loss = 1.7429001331329346\n",
            "Epoch : 4, Train Loss = 1.682486653327942, Validation Loss = 1.6994236707687378\n",
            "Epoch : 5, Train Loss = 1.4830220937728882, Validation Loss = 1.4798308610916138\n",
            "Epoch : 6, Train Loss = 1.364371657371521, Validation Loss = 1.3592051267623901\n",
            "Epoch : 7, Train Loss = 1.2550584077835083, Validation Loss = 1.229724645614624\n",
            "Epoch : 8, Train Loss = 1.0763174295425415, Validation Loss = 1.0803128480911255\n",
            "Epoch : 9, Train Loss = 1.0877195596694946, Validation Loss = 1.0914350748062134\n",
            "Epoch : 10, Train Loss = 1.4752836227416992, Validation Loss = 1.4231441020965576\n"
          ]
        },
        {
          "output_type": "stream",
          "name": "stderr",
          "text": [
            "/usr/local/lib/python3.10/dist-packages/sklearn/cluster/_kmeans.py:870: FutureWarning: The default value of `n_init` will change from 10 to 'auto' in 1.4. Set the value of `n_init` explicitly to suppress the warning\n",
            "  warnings.warn(\n"
          ]
        },
        {
          "output_type": "stream",
          "name": "stdout",
          "text": [
            "Cluster count:  [525, 107, 117, 3, 6, 1, 217, 291, 48, 155, 4, 61, 3, 20, 2, 1, 541, 8, 220, 1, 100, 108, 50, 107, 37]\n",
            "Epoch : 11, Train Loss = 1.4090502262115479, Validation Loss = 1.2853057384490967\n",
            "Epoch : 12, Train Loss = 1.0707632303237915, Validation Loss = 1.0079576969146729\n",
            "Epoch : 13, Train Loss = 0.887324869632721, Validation Loss = 0.8716397881507874\n",
            "Epoch : 14, Train Loss = 1.0186512470245361, Validation Loss = 1.0810478925704956\n",
            "Epoch : 15, Train Loss = 0.9212835431098938, Validation Loss = 0.9595994353294373\n",
            "Epoch : 16, Train Loss = 0.7728092670440674, Validation Loss = 0.7697626948356628\n",
            "Epoch : 17, Train Loss = 0.7378437519073486, Validation Loss = 0.7018600702285767\n",
            "Epoch : 18, Train Loss = 0.7081258893013, Validation Loss = 0.6525416374206543\n",
            "Epoch : 19, Train Loss = 0.6547693610191345, Validation Loss = 0.6095172166824341\n",
            "Epoch : 20, Train Loss = 0.6120690107345581, Validation Loss = 0.5965432524681091\n"
          ]
        },
        {
          "output_type": "stream",
          "name": "stderr",
          "text": [
            "/usr/local/lib/python3.10/dist-packages/sklearn/cluster/_kmeans.py:870: FutureWarning: The default value of `n_init` will change from 10 to 'auto' in 1.4. Set the value of `n_init` explicitly to suppress the warning\n",
            "  warnings.warn(\n"
          ]
        },
        {
          "output_type": "stream",
          "name": "stdout",
          "text": [
            "Cluster count:  [264, 73, 233, 193, 93, 4, 4, 35, 128, 5, 128, 3, 52, 52, 197, 309, 23, 3, 3, 5, 51, 7, 803, 38, 52]\n",
            "Epoch : 21, Train Loss = 0.6341801285743713, Validation Loss = 0.6394734382629395\n",
            "Epoch : 22, Train Loss = 0.6263647675514221, Validation Loss = 0.636252760887146\n",
            "Epoch : 23, Train Loss = 0.6331830024719238, Validation Loss = 0.6400002837181091\n",
            "Epoch : 24, Train Loss = 0.6176813840866089, Validation Loss = 0.6215571165084839\n",
            "Epoch : 25, Train Loss = 0.5874485969543457, Validation Loss = 0.5885884165763855\n",
            "Epoch : 26, Train Loss = 0.5746020078659058, Validation Loss = 0.5764745473861694\n",
            "Epoch : 27, Train Loss = 0.5677639842033386, Validation Loss = 0.5717732310295105\n",
            "Epoch : 28, Train Loss = 0.5534146428108215, Validation Loss = 0.5624649524688721\n",
            "Epoch : 29, Train Loss = 0.5426744222640991, Validation Loss = 0.5606462359428406\n",
            "Epoch : 30, Train Loss = 0.5363764762878418, Validation Loss = 0.5654813647270203\n"
          ]
        },
        {
          "output_type": "stream",
          "name": "stderr",
          "text": [
            "/usr/local/lib/python3.10/dist-packages/sklearn/cluster/_kmeans.py:870: FutureWarning: The default value of `n_init` will change from 10 to 'auto' in 1.4. Set the value of `n_init` explicitly to suppress the warning\n",
            "  warnings.warn(\n"
          ]
        },
        {
          "output_type": "stream",
          "name": "stdout",
          "text": [
            "Cluster count:  [197, 164, 35, 58, 770, 235, 2, 7, 7, 13, 6, 120, 71, 4, 321, 5, 53, 102, 307, 155, 44, 4, 39, 53, 11]\n",
            "Epoch : 31, Train Loss = 0.5577757358551025, Validation Loss = 0.5888558030128479\n",
            "Epoch : 32, Train Loss = 0.5490731596946716, Validation Loss = 0.5863128900527954\n",
            "Epoch : 33, Train Loss = 0.5421505570411682, Validation Loss = 0.5822494626045227\n",
            "Epoch : 34, Train Loss = 0.5379857420921326, Validation Loss = 0.5791793465614319\n",
            "Epoch : 35, Train Loss = 0.5297204852104187, Validation Loss = 0.572431743144989\n",
            "Epoch : 36, Train Loss = 0.5183313488960266, Validation Loss = 0.5651862025260925\n",
            "Epoch : 37, Train Loss = 0.5102072358131409, Validation Loss = 0.5640188455581665\n",
            "Epoch : 38, Train Loss = 0.5062035918235779, Validation Loss = 0.568126380443573\n",
            "Test Loss = 0.6458789706230164\n",
            "Accuracy =  0.8153618906942393\n",
            "Epoch : 0, Train Loss = 1.9431476593017578, Validation Loss = 1.94350266456604\n"
          ]
        },
        {
          "output_type": "stream",
          "name": "stderr",
          "text": [
            "/usr/local/lib/python3.10/dist-packages/sklearn/cluster/_kmeans.py:870: FutureWarning: The default value of `n_init` will change from 10 to 'auto' in 1.4. Set the value of `n_init` explicitly to suppress the warning\n",
            "  warnings.warn(\n"
          ]
        },
        {
          "output_type": "stream",
          "name": "stdout",
          "text": [
            "Cluster count:  [279, 27, 2, 170, 51, 40, 440, 177, 12, 171, 153, 19, 1, 44, 33, 646, 34, 71, 4, 6, 16, 239, 1, 71, 1]\n",
            "Epoch : 1, Train Loss = 1.7988461256027222, Validation Loss = 1.8268835544586182\n",
            "Epoch : 2, Train Loss = 1.611194133758545, Validation Loss = 1.6375211477279663\n",
            "Epoch : 3, Train Loss = 1.4193447828292847, Validation Loss = 1.461287498474121\n",
            "Epoch : 4, Train Loss = 1.4254189729690552, Validation Loss = 1.4409736394882202\n",
            "Epoch : 5, Train Loss = 1.2223140001296997, Validation Loss = 1.196911334991455\n",
            "Epoch : 6, Train Loss = 0.8850647211074829, Validation Loss = 0.8735290169715881\n",
            "Epoch : 7, Train Loss = 0.9437445998191833, Validation Loss = 0.9338831305503845\n",
            "Epoch : 8, Train Loss = 0.7687658667564392, Validation Loss = 0.7504392862319946\n",
            "Epoch : 9, Train Loss = 0.6985809803009033, Validation Loss = 0.708002507686615\n",
            "Epoch : 10, Train Loss = 0.6703302264213562, Validation Loss = 0.6925063729286194\n"
          ]
        },
        {
          "output_type": "stream",
          "name": "stderr",
          "text": [
            "/usr/local/lib/python3.10/dist-packages/sklearn/cluster/_kmeans.py:870: FutureWarning: The default value of `n_init` will change from 10 to 'auto' in 1.4. Set the value of `n_init` explicitly to suppress the warning\n",
            "  warnings.warn(\n"
          ]
        },
        {
          "output_type": "stream",
          "name": "stdout",
          "text": [
            "Cluster count:  [127, 129, 162, 278, 67, 30, 66, 2, 3, 474, 49, 88, 5, 133, 30, 2, 179, 312, 1, 198, 70, 17, 230, 77, 4]\n",
            "Epoch : 11, Train Loss = 0.6450017690658569, Validation Loss = 0.6011644005775452\n",
            "Epoch : 12, Train Loss = 0.6917487978935242, Validation Loss = 0.6574001312255859\n",
            "Epoch : 13, Train Loss = 0.6452875137329102, Validation Loss = 0.6389870643615723\n",
            "Epoch : 14, Train Loss = 0.5771299004554749, Validation Loss = 0.5922359228134155\n",
            "Epoch : 15, Train Loss = 0.5506148934364319, Validation Loss = 0.5667257308959961\n",
            "Epoch : 16, Train Loss = 0.5155254602432251, Validation Loss = 0.5391071438789368\n",
            "Epoch : 17, Train Loss = 0.5002360343933105, Validation Loss = 0.5379757881164551\n",
            "Epoch : 18, Train Loss = 0.4922841787338257, Validation Loss = 0.5480079650878906\n",
            "Epoch : 19, Train Loss = 0.46959635615348816, Validation Loss = 0.5446462035179138\n",
            "Epoch : 20, Train Loss = 0.45384082198143005, Validation Loss = 0.5440356135368347\n"
          ]
        },
        {
          "output_type": "stream",
          "name": "stderr",
          "text": [
            "/usr/local/lib/python3.10/dist-packages/sklearn/cluster/_kmeans.py:870: FutureWarning: The default value of `n_init` will change from 10 to 'auto' in 1.4. Set the value of `n_init` explicitly to suppress the warning\n",
            "  warnings.warn(\n"
          ]
        },
        {
          "output_type": "stream",
          "name": "stdout",
          "text": [
            "Cluster count:  [744, 47, 112, 7, 2, 205, 106, 90, 63, 290, 17, 133, 20, 6, 3, 64, 89, 26, 4, 32, 167, 2, 304, 221, 4]\n",
            "Epoch : 21, Train Loss = 0.4814080595970154, Validation Loss = 0.5262891054153442\n",
            "Epoch : 22, Train Loss = 0.4641968607902527, Validation Loss = 0.5110549926757812\n",
            "Epoch : 23, Train Loss = 0.44705694913864136, Validation Loss = 0.500230610370636\n",
            "Epoch : 24, Train Loss = 0.4416418969631195, Validation Loss = 0.5102585554122925\n",
            "Epoch : 25, Train Loss = 0.42825379967689514, Validation Loss = 0.5179882645606995\n",
            "Epoch : 26, Train Loss = 0.41738632321357727, Validation Loss = 0.5254310965538025\n",
            "Epoch : 27, Train Loss = 0.40771061182022095, Validation Loss = 0.5273095369338989\n",
            "Epoch : 28, Train Loss = 0.3908332586288452, Validation Loss = 0.5147340893745422\n",
            "Epoch : 29, Train Loss = 0.3807782530784607, Validation Loss = 0.5108261704444885\n",
            "Epoch : 30, Train Loss = 0.3733053505420685, Validation Loss = 0.520521342754364\n"
          ]
        },
        {
          "output_type": "stream",
          "name": "stderr",
          "text": [
            "/usr/local/lib/python3.10/dist-packages/sklearn/cluster/_kmeans.py:870: FutureWarning: The default value of `n_init` will change from 10 to 'auto' in 1.4. Set the value of `n_init` explicitly to suppress the warning\n",
            "  warnings.warn(\n"
          ]
        },
        {
          "output_type": "stream",
          "name": "stdout",
          "text": [
            "Cluster count:  [315, 9, 62, 92, 221, 8, 292, 110, 6, 22, 53, 5, 134, 5, 86, 168, 105, 740, 45, 27, 7, 34, 2, 232, 3]\n",
            "Epoch : 31, Train Loss = 0.4099985659122467, Validation Loss = 0.5376496315002441\n",
            "Epoch : 32, Train Loss = 0.4023711681365967, Validation Loss = 0.5234885811805725\n",
            "Epoch : 33, Train Loss = 0.3791281580924988, Validation Loss = 0.5173417925834656\n",
            "Epoch : 34, Train Loss = 0.3824613094329834, Validation Loss = 0.5281673669815063\n",
            "Epoch : 35, Train Loss = 0.3729052245616913, Validation Loss = 0.5233874917030334\n",
            "Epoch : 36, Train Loss = 0.3556748330593109, Validation Loss = 0.5251656174659729\n",
            "Epoch : 37, Train Loss = 0.34657856822013855, Validation Loss = 0.532841145992279\n",
            "Epoch : 38, Train Loss = 0.33969801664352417, Validation Loss = 0.5318880677223206\n",
            "Test Loss = 0.6472705006599426\n",
            "Accuracy =  0.8197932053175776\n",
            "Epoch : 0, Train Loss = 1.9481197595596313, Validation Loss = 1.9476791620254517\n"
          ]
        },
        {
          "output_type": "stream",
          "name": "stderr",
          "text": [
            "/usr/local/lib/python3.10/dist-packages/sklearn/cluster/_kmeans.py:870: FutureWarning: The default value of `n_init` will change from 10 to 'auto' in 1.4. Set the value of `n_init` explicitly to suppress the warning\n",
            "  warnings.warn(\n"
          ]
        },
        {
          "output_type": "stream",
          "name": "stdout",
          "text": [
            "Cluster count:  [281, 118, 558, 113, 53, 16, 94, 38, 23, 229, 38, 12, 18, 273, 50, 71, 1, 109, 43, 224, 271, 19, 2, 18, 36]\n",
            "Epoch : 1, Train Loss = 1.786224603652954, Validation Loss = 1.8114231824874878\n",
            "Epoch : 2, Train Loss = 2.0762815475463867, Validation Loss = 2.1734251976013184\n",
            "Epoch : 3, Train Loss = 1.7712466716766357, Validation Loss = 1.7669668197631836\n",
            "Epoch : 4, Train Loss = 1.6491305828094482, Validation Loss = 1.6468480825424194\n",
            "Epoch : 5, Train Loss = 1.4897035360336304, Validation Loss = 1.520384669303894\n",
            "Epoch : 6, Train Loss = 1.7106050252914429, Validation Loss = 1.729127287864685\n",
            "Epoch : 7, Train Loss = 1.559456467628479, Validation Loss = 1.6190922260284424\n",
            "Epoch : 8, Train Loss = 1.6658562421798706, Validation Loss = 1.759398102760315\n",
            "Epoch : 9, Train Loss = 1.2661601305007935, Validation Loss = 1.2728582620620728\n",
            "Epoch : 10, Train Loss = 1.1635799407958984, Validation Loss = 1.1644256114959717\n"
          ]
        },
        {
          "output_type": "stream",
          "name": "stderr",
          "text": [
            "/usr/local/lib/python3.10/dist-packages/sklearn/cluster/_kmeans.py:870: FutureWarning: The default value of `n_init` will change from 10 to 'auto' in 1.4. Set the value of `n_init` explicitly to suppress the warning\n",
            "  warnings.warn(\n"
          ]
        },
        {
          "output_type": "stream",
          "name": "stdout",
          "text": [
            "Cluster count:  [206, 72, 133, 36, 218, 3, 1, 7, 407, 45, 38, 144, 157, 98, 557, 2, 1, 10, 2, 1, 37, 349, 110, 98, 1]\n",
            "Epoch : 11, Train Loss = 1.1346973180770874, Validation Loss = 1.135640263557434\n",
            "Epoch : 12, Train Loss = 0.9928461313247681, Validation Loss = 0.9919189214706421\n",
            "Epoch : 13, Train Loss = 0.8464551568031311, Validation Loss = 0.8559107184410095\n",
            "Epoch : 14, Train Loss = 0.7475746273994446, Validation Loss = 0.7836222648620605\n",
            "Epoch : 15, Train Loss = 0.6888588070869446, Validation Loss = 0.7472804188728333\n",
            "Epoch : 16, Train Loss = 0.6678533554077148, Validation Loss = 0.7481511235237122\n",
            "Epoch : 17, Train Loss = 0.676788866519928, Validation Loss = 0.7914583683013916\n",
            "Epoch : 18, Train Loss = 0.633848249912262, Validation Loss = 0.7594282627105713\n",
            "Epoch : 19, Train Loss = 0.6222517490386963, Validation Loss = 0.767194390296936\n",
            "Epoch : 20, Train Loss = 0.6078562140464783, Validation Loss = 0.7451609373092651\n"
          ]
        },
        {
          "output_type": "stream",
          "name": "stderr",
          "text": [
            "/usr/local/lib/python3.10/dist-packages/sklearn/cluster/_kmeans.py:870: FutureWarning: The default value of `n_init` will change from 10 to 'auto' in 1.4. Set the value of `n_init` explicitly to suppress the warning\n",
            "  warnings.warn(\n"
          ]
        },
        {
          "output_type": "stream",
          "name": "stdout",
          "text": [
            "Cluster count:  [211, 223, 74, 4, 19, 42, 401, 1, 191, 173, 5, 548, 2, 20, 89, 2, 35, 2, 2, 194, 16, 5, 398, 1, 100]\n",
            "Epoch : 21, Train Loss = 0.6725200414657593, Validation Loss = 0.8033981919288635\n",
            "Epoch : 22, Train Loss = 0.6337943077087402, Validation Loss = 0.7731686234474182\n",
            "Epoch : 23, Train Loss = 0.6087719798088074, Validation Loss = 0.7537335753440857\n",
            "Epoch : 24, Train Loss = 0.574735701084137, Validation Loss = 0.7180625200271606\n",
            "Epoch : 25, Train Loss = 0.5564255714416504, Validation Loss = 0.7054619789123535\n",
            "Epoch : 26, Train Loss = 0.5551950931549072, Validation Loss = 0.7003129720687866\n",
            "Epoch : 27, Train Loss = 0.5114593505859375, Validation Loss = 0.6604841947555542\n",
            "Epoch : 28, Train Loss = 0.5193095803260803, Validation Loss = 0.6768824458122253\n",
            "Epoch : 29, Train Loss = 0.49398910999298096, Validation Loss = 0.6555755138397217\n",
            "Epoch : 30, Train Loss = 0.4881894290447235, Validation Loss = 0.6563469171524048\n"
          ]
        },
        {
          "output_type": "stream",
          "name": "stderr",
          "text": [
            "/usr/local/lib/python3.10/dist-packages/sklearn/cluster/_kmeans.py:870: FutureWarning: The default value of `n_init` will change from 10 to 'auto' in 1.4. Set the value of `n_init` explicitly to suppress the warning\n",
            "  warnings.warn(\n"
          ]
        },
        {
          "output_type": "stream",
          "name": "stdout",
          "text": [
            "Cluster count:  [185, 589, 2, 3, 74, 4, 14, 43, 194, 193, 103, 431, 6, 547, 3, 2, 35, 88, 6, 5, 52, 184, 15, 2, 3]\n",
            "Epoch : 31, Train Loss = 0.5136650204658508, Validation Loss = 0.6633981466293335\n",
            "Epoch : 32, Train Loss = 0.5059640407562256, Validation Loss = 0.6610156893730164\n",
            "Epoch : 33, Train Loss = 0.49811846017837524, Validation Loss = 0.661912739276886\n",
            "Epoch : 34, Train Loss = 0.484203964471817, Validation Loss = 0.6570417881011963\n",
            "Epoch : 35, Train Loss = 0.4757232069969177, Validation Loss = 0.6553236246109009\n",
            "Epoch : 36, Train Loss = 0.47453776001930237, Validation Loss = 0.6485893726348877\n",
            "Epoch : 37, Train Loss = 0.46116334199905396, Validation Loss = 0.6359127759933472\n",
            "Epoch : 38, Train Loss = 0.45872023701667786, Validation Loss = 0.6401738524436951\n",
            "Test Loss = 0.6203855276107788\n",
            "Accuracy =  0.8094534711964549\n",
            "Epoch : 0, Train Loss = 1.9548808336257935, Validation Loss = 1.9537895917892456\n"
          ]
        },
        {
          "output_type": "stream",
          "name": "stderr",
          "text": [
            "/usr/local/lib/python3.10/dist-packages/sklearn/cluster/_kmeans.py:870: FutureWarning: The default value of `n_init` will change from 10 to 'auto' in 1.4. Set the value of `n_init` explicitly to suppress the warning\n",
            "  warnings.warn(\n"
          ]
        },
        {
          "output_type": "stream",
          "name": "stdout",
          "text": [
            "Cluster count:  [113, 654, 296, 24, 45, 6, 35, 119, 105, 42, 39, 284, 78, 40, 68, 177, 225, 7, 135, 2, 117, 27, 1, 55, 14]\n",
            "Epoch : 1, Train Loss = 1.7903518676757812, Validation Loss = 1.8177409172058105\n",
            "Epoch : 2, Train Loss = 1.6145236492156982, Validation Loss = 1.65056312084198\n",
            "Epoch : 3, Train Loss = 1.6508815288543701, Validation Loss = 1.658036470413208\n",
            "Epoch : 4, Train Loss = 1.3410102128982544, Validation Loss = 1.3459947109222412\n",
            "Epoch : 5, Train Loss = 0.9996632933616638, Validation Loss = 0.9974874258041382\n",
            "Epoch : 6, Train Loss = 0.8852083086967468, Validation Loss = 0.8849424123764038\n",
            "Epoch : 7, Train Loss = 0.8164098858833313, Validation Loss = 0.8239710927009583\n",
            "Epoch : 8, Train Loss = 0.8809984922409058, Validation Loss = 0.9087406396865845\n",
            "Epoch : 9, Train Loss = 0.7320689558982849, Validation Loss = 0.7590864896774292\n",
            "Epoch : 10, Train Loss = 0.8286179304122925, Validation Loss = 0.8288969397544861\n"
          ]
        },
        {
          "output_type": "stream",
          "name": "stderr",
          "text": [
            "/usr/local/lib/python3.10/dist-packages/sklearn/cluster/_kmeans.py:870: FutureWarning: The default value of `n_init` will change from 10 to 'auto' in 1.4. Set the value of `n_init` explicitly to suppress the warning\n",
            "  warnings.warn(\n"
          ]
        },
        {
          "output_type": "stream",
          "name": "stdout",
          "text": [
            "Cluster count:  [166, 68, 81, 144, 57, 51, 4, 181, 358, 2, 3, 304, 1, 16, 226, 6, 71, 166, 1, 29, 1, 109, 445, 19, 224]\n",
            "Epoch : 11, Train Loss = 0.7580884695053101, Validation Loss = 0.7614999413490295\n",
            "Epoch : 12, Train Loss = 0.7057763934135437, Validation Loss = 0.7361006736755371\n",
            "Epoch : 13, Train Loss = 0.6649291515350342, Validation Loss = 0.7134048342704773\n",
            "Epoch : 14, Train Loss = 0.631929874420166, Validation Loss = 0.7056888937950134\n",
            "Epoch : 15, Train Loss = 0.5413851141929626, Validation Loss = 0.6431983709335327\n",
            "Epoch : 16, Train Loss = 0.5185473561286926, Validation Loss = 0.6410608887672424\n",
            "Epoch : 17, Train Loss = 0.5195632576942444, Validation Loss = 0.6431452035903931\n",
            "Epoch : 18, Train Loss = 0.5017081499099731, Validation Loss = 0.6233706474304199\n",
            "Epoch : 19, Train Loss = 0.47347262501716614, Validation Loss = 0.5937854051589966\n",
            "Epoch : 20, Train Loss = 0.4576454758644104, Validation Loss = 0.589073121547699\n"
          ]
        },
        {
          "output_type": "stream",
          "name": "stderr",
          "text": [
            "/usr/local/lib/python3.10/dist-packages/sklearn/cluster/_kmeans.py:870: FutureWarning: The default value of `n_init` will change from 10 to 'auto' in 1.4. Set the value of `n_init` explicitly to suppress the warning\n",
            "  warnings.warn(\n"
          ]
        },
        {
          "output_type": "stream",
          "name": "stdout",
          "text": [
            "Cluster count:  [143, 271, 54, 6, 181, 105, 15, 7, 103, 194, 5, 93, 351, 2, 45, 553, 129, 35, 159, 93, 4, 5, 139, 63, 3]\n",
            "Epoch : 21, Train Loss = 0.49323901534080505, Validation Loss = 0.6061156988143921\n",
            "Epoch : 22, Train Loss = 0.4818354845046997, Validation Loss = 0.5984203815460205\n",
            "Epoch : 23, Train Loss = 0.4892441928386688, Validation Loss = 0.6126025915145874\n",
            "Epoch : 24, Train Loss = 0.4647846817970276, Validation Loss = 0.593850314617157\n",
            "Epoch : 25, Train Loss = 0.4454593062400818, Validation Loss = 0.5803354382514954\n",
            "Epoch : 26, Train Loss = 0.43971186876296997, Validation Loss = 0.5797128677368164\n",
            "Epoch : 27, Train Loss = 0.4291550815105438, Validation Loss = 0.5828313231468201\n",
            "Epoch : 28, Train Loss = 0.41928035020828247, Validation Loss = 0.5954682230949402\n",
            "Epoch : 29, Train Loss = 0.4118483364582062, Validation Loss = 0.6018467545509338\n",
            "Epoch : 30, Train Loss = 0.4033869206905365, Validation Loss = 0.5999693870544434\n"
          ]
        },
        {
          "output_type": "stream",
          "name": "stderr",
          "text": [
            "/usr/local/lib/python3.10/dist-packages/sklearn/cluster/_kmeans.py:870: FutureWarning: The default value of `n_init` will change from 10 to 'auto' in 1.4. Set the value of `n_init` explicitly to suppress the warning\n",
            "  warnings.warn(\n"
          ]
        },
        {
          "output_type": "stream",
          "name": "stdout",
          "text": [
            "Cluster count:  [18, 289, 632, 150, 109, 4, 64, 205, 6, 8, 4, 53, 3, 20, 101, 158, 31, 4, 396, 153, 92, 7, 101, 3, 172]\n",
            "Epoch : 31, Train Loss = 0.424563467502594, Validation Loss = 0.597525954246521\n",
            "Epoch : 32, Train Loss = 0.4216022789478302, Validation Loss = 0.58519446849823\n",
            "Epoch : 33, Train Loss = 0.4119909405708313, Validation Loss = 0.5742555856704712\n",
            "Epoch : 34, Train Loss = 0.3989022970199585, Validation Loss = 0.5844696164131165\n",
            "Epoch : 35, Train Loss = 0.3876633942127228, Validation Loss = 0.586432933807373\n",
            "Epoch : 36, Train Loss = 0.38183876872062683, Validation Loss = 0.5887063145637512\n",
            "Epoch : 37, Train Loss = 0.3740394711494446, Validation Loss = 0.5964651107788086\n",
            "Epoch : 38, Train Loss = 0.36762484908103943, Validation Loss = 0.5722037553787231\n",
            "Test Loss = 0.7243016362190247\n",
            "Accuracy =  0.843426883308715\n"
          ]
        }
      ]
    },
    {
      "cell_type": "code",
      "source": [
        "temp = test_mask.long()\n",
        "\n",
        "temp = torch.sum(temp).item()\n",
        "\n",
        "print(temp)"
      ],
      "metadata": {
        "id": "0Lr5hBmDV28g",
        "colab": {
          "base_uri": "https://localhost:8080/"
        },
        "outputId": "f4785b8a-69fc-4443-b8b7-9f6b4f15dbe8"
      },
      "execution_count": null,
      "outputs": [
        {
          "output_type": "stream",
          "name": "stdout",
          "text": [
            "677\n"
          ]
        }
      ]
    },
    {
      "cell_type": "code",
      "source": [
        "BAcc = [i/677 for i in Acc]\n",
        "\n",
        "mean = sum(BAcc)/len(BAcc)\n",
        "\n",
        "var = sum([i ** 2 for i in BAcc])/len(BAcc) - mean ** 2\n",
        "\n",
        "print(mean, var ** 0.5)"
      ],
      "metadata": {
        "colab": {
          "base_uri": "https://localhost:8080/"
        },
        "id": "HsfernRBoEhP",
        "outputId": "14acb3c8-1617-4866-90c7-83a9ec6dbc21"
      },
      "execution_count": null,
      "outputs": [
        {
          "output_type": "stream",
          "name": "stdout",
          "text": [
            "0.8255539143279172 0.013086348925724968\n"
          ]
        }
      ]
    },
    {
      "cell_type": "code",
      "source": [],
      "metadata": {
        "id": "fDWAgN-poxTj"
      },
      "execution_count": null,
      "outputs": []
    }
  ]
}